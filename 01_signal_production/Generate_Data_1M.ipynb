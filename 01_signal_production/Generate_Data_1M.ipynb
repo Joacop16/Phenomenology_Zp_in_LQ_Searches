{
 "cells": [
  {
   "cell_type": "code",
   "execution_count": 1,
   "metadata": {
    "tags": []
   },
   "outputs": [],
   "source": [
    "import os\n",
    "import numpy as np\n",
    "import multiprocessing as mp\n",
    "from mg5_tools import semilla, run_mg5_file\n",
    "from mg5_tools import get_seeds_from_mg5_output_folder as get_used_seeds\n",
    "\n",
    "UFO_name = os.path.join(os.path.dirname(os.getcwd()), '00_FeynRules_UFO','Mod2_VLQ_UFO')\n",
    "cases = [\"woRHC\"]\n",
    "\n",
    "mass_step = 500 # GeV\n",
    "g_u_step = 1/4\n",
    "\n",
    "# Leptoquark parameters\n",
    "M_U = np.arange(1000, 3500 + mass_step, mass_step)\n",
    "g_U = np.arange(0.5, 3.5 + g_u_step , g_u_step)\n",
    "\n",
    "## Leptoquark parameters (fixed)\n",
    "#M_U = np.array([1000, 1500, 2000, 2500, 3000, 3500])\n",
    "g_U = np.array([1.75])\n",
    "\n",
    "# Z' parameters\n",
    "mass_constraints_zp = {\"zp_upper_limit\": M_U*np.sqrt(3./2.), \"zp_lower_limit\": M_U*np.sqrt(1./2.)}\n",
    "g_zp_step = 1/2\n",
    "g_zp = np.arange(0.5, 3.5 + g_zp_step, g_zp_step)\n",
    "\n",
    "output_folder= os.path.join(os.sep, \"disco2\", \"SIMULATIONS\", f\"lq_zp\")\n",
    "os.makedirs(output_folder, exist_ok=True)\n",
    "\n",
    "n_events = 1.0e6\n",
    "\n",
    "nevts = 25e3\n",
    "n_runs = int(n_events/nevts)\n",
    "\n",
    "#n_runs = 1 \n",
    "\n",
    "n_cores = mp.cpu_count()\n",
    "\n",
    "n_workers = 3 \n",
    "\n",
    "n_cores = int(n_cores/n_workers)\n",
    "\n",
    "if n_cores == 1:\n",
    "    raise ValueError(\"n_cores must be greater than 1\")\n",
    "\n",
    "UFO_name"
   ]
  },
  {
   "cell_type": "code",
   "execution_count": 2,
   "metadata": {
    "tags": []
   },
   "outputs": [],
   "source": [
    "headers = {\n",
    "\"total_tau_tau\" : \n",
    "f\"\"\"\n",
    "import model {UFO_name} \n",
    "define lq = vlq vlq~\n",
    "define ta = ta+ ta-\n",
    "generate p p > ta ta @0 QED = 0\n",
    "\"\"\"\n",
    "}\n",
    "\n",
    "kin_gen_cuts = {\n",
    "    \"cut_decays\" : True,\n",
    "    \"ptb\" : 30,\n",
    "    \"ptj\" : 20,\n",
    "    \"ptl\" : 20,\n",
    "    \"etab\" : 2.5,\n",
    "    \"pt_min_pdg\" : \"{15: 30}\",\n",
    "    \"eta_max_pdg\" : '{15: 2.5}',\n",
    "    'mxx_min_pdg' : '{15:100}'\n",
    "}"
   ]
  },
  {
   "cell_type": "code",
   "execution_count": null,
   "metadata": {},
   "outputs": [],
   "source": [
    "\n",
    "        \n"
   ]
  },
  {
   "cell_type": "code",
   "execution_count": 3,
   "metadata": {
    "tags": []
   },
   "outputs": [],
   "source": [
    "def prepare_proc_script(x, output_folder):\n",
    "    case = x[0] \n",
    "    header = x[1]\n",
    "    mass_constraint_zp = x[2][0]\n",
    "    gz = x[3]\n",
    "    gu = x[4]\n",
    "    m = x[5]\n",
    "    label = f\"mu_{m}_gu{gu}_gzp_{gz}\"\n",
    "    mg5_output_folder = os.path.join(output_folder, case, mass_constraint_zp, header, label.replace(\".\", \"_\"))\n",
    "    os.makedirs(mg5_output_folder, exist_ok=True)\n",
    "\n",
    "    proc_file_path = os.path.join(mg5_output_folder, f\"proc_script.mg5\")\n",
    "    with open(proc_file_path, 'w') as f:\n",
    "        f.write(headers[header])\n",
    "        f.write(f\"output {mg5_output_folder} -nojpeg\\n\")\n",
    "\n",
    "    # check if the process has already been generated\n",
    "    if not os.path.exists(proc_file_path):\n",
    "        raise Exception(f\"Process {proc_file_path} not generated\")\n",
    "    return run_mg5_file(proc_file_path)"
   ]
  },
  {
   "cell_type": "code",
   "execution_count": 4,
   "metadata": {
    "tags": []
   },
   "outputs": [
    {
     "data": {
      "text/plain": [
       "True"
      ]
     },
     "execution_count": 4,
     "metadata": {},
     "output_type": "execute_result"
    }
   ],
   "source": [
    "from itertools import product\n",
    "from multiprocessing import Pool\n",
    "from tqdm.notebook import tqdm as tq\n",
    "prod = list(product(cases, headers.keys(), mass_constraints_zp.items(), g_zp, g_U, M_U,[output_folder]))\n",
    "\n",
    "pb = tq(total=len(prod))\n",
    "ncores = 13\n",
    "n_batches = int(len(prod)/ncores)\n",
    "for i in range(n_batches+1):\n",
    "    batch = prod[i*ncores:(i+1)*ncores]\n",
    "    with Pool(ncores) as p:\n",
    "        all(list( p.map ( prepare_proc_script, batch )))\n",
    "    pb.update(len(batch))\n",
    "pb.close()"
   ]
  },
  {
   "cell_type": "code",
   "execution_count": 5,
   "metadata": {
    "tags": []
   },
   "outputs": [],
   "source": [
    "import os\n",
    "from pathlib import Path\n",
    "from random import random\n",
    "from time import sleep\n",
    "\n",
    "def generate_events(x):\n",
    "    #add random sleep to fix printing issues in multiprocessing pool\n",
    "    sleep(2+random()*3)\n",
    "    case = x[0] \n",
    "    header = x[1]\n",
    "    mass_constraint_zp = x[2][0]\n",
    "    gz = x[3]\n",
    "    gu = x[4]\n",
    "    m = x[5]\n",
    "    output_folder  = x[6]    \n",
    "    label = f\"mu_{m}_gu{gu}_gzp_{gz}\"\n",
    "    param_card = os.path.join(\"Param_Cards\", case, mass_constraint_zp, f\"param_card_{label}.dat\")\n",
    "    delphes_card = os.path.join(os.getcwd(), \"delphes_card_CMS-0.7bTag.dat\")\n",
    "    pythia_card = os.path.join(os.getcwd(), \"pythia8_card.dat\")\n",
    "\n",
    "    # check if cards exist\n",
    "    if not os.path.exists(param_card):\n",
    "        raise Exception(f\"Param card {param_card} not generated\")\n",
    "    elif not os.path.exists(delphes_card):\n",
    "        raise Exception(f\"Delphes card {delphes_card} not exists\")\n",
    "    elif not os.path.exists(pythia_card):\n",
    "        raise Exception(f\"Pythia card {pythia_card} not exists\")\n",
    "    \n",
    "    mg5_output_folder = os.path.join(output_folder, case, mass_constraint_zp , header, label.replace(\".\", \"_\"))\n",
    "    # check if the process has already been generated\n",
    "    if not os.path.exists(mg5_output_folder):\n",
    "        raise Exception(f\"Process {mg5_output_folder} not generated\")\n",
    "    seeds = get_used_seeds(mg5_output_folder)\n",
    "    seed = semilla(seeds)\n",
    "\n",
    "    f = open(os.path.join(mg5_output_folder, f\"run_{seed}.mg5\"), 'w')\n",
    "    f.write(f\"launch {mg5_output_folder} -m\\n\")\n",
    "    f.write(f\"{n_cores}\\n\")\n",
    "    f.write(\"shower = Pythia8 \\n\")\n",
    "    f.write(\"detector = Delphes \\n\")\n",
    "    f.write(\"done \\n\")\n",
    "    f.write(f\"set nevents {nevts}\\n\")\n",
    "    f.write(f\"set iseed {seed}\\n\")\n",
    "    f.write('set sde_strategy 1\\n')\n",
    "    [f.write(f\"set {key} {value}\\n\") for key, value in kin_gen_cuts.items()]\n",
    "    f.write(f\"{param_card}\\n\")\n",
    "    f.write(f\"{delphes_card}\\n\")\n",
    "    f.write(f\"{pythia_card}\\n\")\n",
    "    f.write(\"done \\n\")\n",
    "    f.close()\n",
    "    return run_mg5_file(os.path.join(mg5_output_folder, f\"run_{seed}.mg5\"))"
   ]
  },
  {
   "cell_type": "code",
   "execution_count": null,
   "metadata": {
    "tags": []
   },
   "outputs": [],
   "source": [
    "import multiprocessing as mp\n",
    "import tqdm.notebook as tqdm\n",
    "log_file = open (os.path.join(os.getcwd(), \"generation.log\"), 'w')\n",
    "prod = list(\n",
    "    product(\n",
    "        cases, \n",
    "        headers.keys(), \n",
    "        mass_constraints_zp.items(), \n",
    "        g_zp, g_U, M_U,\n",
    "        [output_folder]\n",
    "    )\n",
    ")\n",
    "\n",
    "pbar = tqdm.tqdm(total=n_runs*len(prod))\n",
    "for run in range(n_runs):\n",
    "    log_file.write(f\"Run {run} started\\n\")\n",
    "    with mp.Pool(n_workers) as pool:\n",
    "        list( pool.map ( generate_events, prod ) )\n",
    "    log_file.write(f\"Run {run} finished\\n\")\n",
    "    pbar.update(len(prod))\n",
    "pbar.close()\n",
    "\n",
    "log_file.write(\"All runs finished\\n\")\n",
    "log_file.close()"
   ]
  }
 ],
 "metadata": {
  "kernelspec": {
   "display_name": "Python 3 (ipykernel)",
   "language": "python",
   "name": "python3"
  },
  "language_info": {
   "codemirror_mode": {
    "name": "ipython",
    "version": 3
   },
   "file_extension": ".py",
   "mimetype": "text/x-python",
   "name": "python",
   "nbconvert_exporter": "python",
   "pygments_lexer": "ipython3",
   "version": "3.9.4"
  }
 },
 "nbformat": 4,
 "nbformat_minor": 4
}
