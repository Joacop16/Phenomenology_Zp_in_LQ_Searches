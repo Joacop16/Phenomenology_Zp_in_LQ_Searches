{
 "cells": [
  {
   "cell_type": "markdown",
   "id": "7c3971e8-4457-4363-99e0-9774f4b45695",
   "metadata": {},
   "source": [
    "$$\\textrm{Joaquin Peñuela Parra}$$\n",
    "$$\\textrm{University of Los Andes}$$\n",
    "$$\\textrm{High Energy Physics Group: Phenomenology of Particles}$$\n",
    "\n",
    "This code was written to be running in Docker. If you do not have a Docker inside hep-server2 please refer to: https://github.com/Phenomenology-group-uniandes/Tutoriales_Generales\n",
    "\n",
    "$\\textbf{Preliminaries}$ \n",
    "\n",
    "The libraries used here are:"
   ]
  },
  {
   "cell_type": "code",
   "execution_count": 1,
   "id": "31de8954-690b-45db-97e6-152c4b150d9a",
   "metadata": {},
   "outputs": [
    {
     "name": "stdout",
     "output_type": "stream",
     "text": [
      "Welcome to JupyROOT 6.22/06\n"
     ]
    },
    {
     "name": "stderr",
     "output_type": "stream",
     "text": [
      "hint: Pulling without specifying how to reconcile divergent branches is\n",
      "hint: discouraged. You can squelch this message by running one of the following\n",
      "hint: commands sometime before your next pull:\n",
      "hint: \n",
      "hint:   git config pull.rebase false  # merge (the default strategy)\n",
      "hint:   git config pull.rebase true   # rebase\n",
      "hint:   git config pull.ff only       # fast-forward only\n",
      "hint: \n",
      "hint: You can replace \"git config\" with \"git config --global\" to set a default\n",
      "hint: preference for all repositories. You can also pass --rebase, --no-rebase,\n",
      "hint: or --ff-only on the command line to override the configured default per\n",
      "hint: invocation.\n"
     ]
    },
    {
     "name": "stdout",
     "output_type": "stream",
     "text": [
      "Already up to date.\n"
     ]
    }
   ],
   "source": [
    "import os\n",
    "import subprocess\n",
    "import numpy as np\n",
    "import pandas as pd\n",
    "from itertools import product\n",
    "from ROOT import TCanvas, TLegend, TLatex\n",
    "\n",
    "## IMPORTANT: Make sure that \"Uniandes_Framework\" is in .gitignore\n",
    "framework_path = \"Uniandes_Framework\"\n",
    "\n",
    "if os.path.exists(framework_path):\n",
    "    # Pull updates if the framework is already cloned\n",
    "    try:\n",
    "        subprocess.run([\"git\", \"-C\", framework_path, \"pull\"])\n",
    "    except subprocess.CalledProcessError as e:\n",
    "        raise Exception(f\"Error occurred while pulling updates from the framework: {e}\")\n",
    "else:\n",
    "    # Clone the framework if it is not already cloned\n",
    "    try:\n",
    "        subprocess.run([\"git\", \"clone\", \"git@github.com:Phenomenology-group-uniandes/Uniandes_Framework.git\"])\n",
    "    except subprocess.CalledProcessError as e:\n",
    "        raise Exception(f\"Error occurred while cloning the framework: {e}\")\n",
    "from Uniandes_Framework.delphes_reader.lhereader import LHE_Loader, readLHEF, get_event_by_child\n",
    "from Uniandes_Framework.delphes_reader.root_analysis import get_kinematics_row, make_histograms, overlap_histos, Quiet, generate_csv, sum_histos, histos_matplotlib, write_root_file, write_txt_file_with_high_per_bin"
   ]
  },
  {
   "cell_type": "code",
   "execution_count": 2,
   "id": "93a07109-c59f-4b02-85c4-3a045ac751a7",
   "metadata": {},
   "outputs": [],
   "source": [
    "Folder = 'Data_Parton_Level'\n",
    "\n",
    "Betards = ['woRHC']\n",
    "zp_limits = ['zp_upper_limit', 'zp_lower_limit']"
   ]
  },
  {
   "cell_type": "code",
   "execution_count": 3,
   "id": "5cabe52b-ad6d-4ef9-b0e3-aaa1531b869e",
   "metadata": {},
   "outputs": [],
   "source": [
    "generation_options = {'ta_ta_virtual_contribution':  'generate p p > ta ta QED = 0 / zp', \n",
    "                      'ta_ta_real_contribution': 'generate p p > zp, zp > ta ta QED = 0',\n",
    "                      'ta_ta_total_contribution': 'generate p p > ta ta QED = 0'}"
   ]
  },
  {
   "cell_type": "code",
   "execution_count": 4,
   "id": "3e81bb9d-b349-41fb-bcb9-2c0feace9b71",
   "metadata": {},
   "outputs": [],
   "source": [
    "M_Us = np.arange(1000,3500,500)\n",
    "g_Us = [1.0]\n",
    "g_Zps = [2.25]"
   ]
  },
  {
   "cell_type": "code",
   "execution_count": 5,
   "id": "9688cdbb-1618-4fd9-b1b9-ecda2d69a1ff",
   "metadata": {},
   "outputs": [],
   "source": [
    "def read_xs_from_html(signal, mu_gu_gzp_label, Betard, zp_limit):\n",
    "    html_path = os.path.join(os.getcwd(), Folder, Betard, zp_limit, signal,  mu_gu_gzp_label, 'crossx.html')\n",
    "    html_table = pd.read_html(html_path)\n",
    "    column_xs = html_table[0]['Cross section (pb)']\n",
    "    return float(column_xs[0].split(' ')[0])    "
   ]
  },
  {
   "cell_type": "code",
   "execution_count": 6,
   "id": "fb7a3c8e-c138-4108-b3bf-bcd389c1c287",
   "metadata": {},
   "outputs": [],
   "source": [
    "generation_options = {'ta_ta_virtual_contribution':  'generate p p > ta ta QED = 0 $$ zp', \n",
    "                      'ta_ta_real_contribution': 'generate p p > zp > ta ta QED = 0',\n",
    "                      'ta_ta_total_contribution': 'generate p p > ta ta QED = 0'}"
   ]
  },
  {
   "cell_type": "code",
   "execution_count": 7,
   "id": "327dcd72-4533-4730-a9d0-b1274ebff9aa",
   "metadata": {
    "tags": []
   },
   "outputs": [],
   "source": [
    "Kinematic_information = {'woRHC':{'zp_upper_limit':{}, 'zp_lower_limit':{}}}\n",
    "\n",
    "for mu , gu, gzp, Betard, zp_limit in product(M_Us,g_Us, g_Zps, Betards, zp_limits): #It takes 3 minutes by combination\n",
    "    \n",
    "    label = f'mu_{mu}_gu_{gu}_gzp_{gzp}'\n",
    "    Kinematic_information[Betard][zp_limit][label] = {}\n",
    "    \n",
    "    for signal in generation_options.keys(): \n",
    "        \n",
    "        CSV_File_path = os.path.join(Folder, Betard, zp_limit, signal, label, 'Kinematic_Information.csv')\n",
    "        Kinematic_information[Betard][zp_limit][label][signal] = pd.read_csv(CSV_File_path)"
   ]
  },
  {
   "cell_type": "code",
   "execution_count": 8,
   "id": "c2db3b51-5dda-4a2f-8621-58b33d071c88",
   "metadata": {
    "tags": []
   },
   "outputs": [],
   "source": [
    "default_hist_bins_dict={\"m_ll(GeV)\" : [100, 0, 5000.0]}"
   ]
  },
  {
   "cell_type": "code",
   "execution_count": 9,
   "id": "97b249e5-fbb1-4090-baf1-c13337dd9c76",
   "metadata": {},
   "outputs": [],
   "source": [
    "format_figure = '.png'\n",
    "# format_figure = '.pdf'"
   ]
  },
  {
   "cell_type": "code",
   "execution_count": 13,
   "id": "6dce940f-5ec9-45ea-8c34-a22b920ff9ff",
   "metadata": {},
   "outputs": [
    {
     "data": {
      "image/png": "[encoded data removed]",
      "text/plain": [
       "<IPython.core.display.Image object>"
      ]
     },
     "metadata": {},
     "output_type": "display_data"
    }
   ],
   "source": [
    "Histograms = {'woRHC':{'zp_upper_limit':{}, 'zp_lower_limit':{}}}\n",
    "\n",
    "for mu , gu, gzp, Betard, zp_limit in product(M_Us,g_Us, g_Zps, Betards, zp_limits):\n",
    "    \n",
    "    label = f'mu_{mu}_gu_{gu}_gzp_{gzp}'\n",
    "          \n",
    "    #Normalized by XS:\n",
    "    H_Total = make_histograms(Kinematic_information[Betard][zp_limit][label]['ta_ta_total_contribution'], hist_bins_dict = default_hist_bins_dict, integral = read_xs_from_html('ta_ta_total_contribution', label, Betard, zp_limit))\n",
    "    H_Virtual = make_histograms(Kinematic_information[Betard][zp_limit][label]['ta_ta_virtual_contribution'], hist_bins_dict = default_hist_bins_dict, integral = read_xs_from_html('ta_ta_virtual_contribution', label, Betard, zp_limit))\n",
    "    H_Real = make_histograms(Kinematic_information[Betard][zp_limit][label]['ta_ta_real_contribution'], hist_bins_dict = default_hist_bins_dict, integral = read_xs_from_html('ta_ta_real_contribution', label, Betard, zp_limit))\n",
    "\n",
    "    H_Sum = sum_histos([H_Virtual[\"m_ll(GeV)\"], H_Real[\"m_ll(GeV)\"]])\n",
    "    H_Division = H_Sum/H_Total[\"m_ll(GeV)\"]\n",
    "    Histograms[Betard][zp_limit][str(mu)] =  {\"m_ll(GeV)\": sum_histos([H_Total[\"m_ll(GeV)\"], H_Sum], substract = True)}\n",
    "\n",
    "os.makedirs(os.path.join('Article_Histograms'), exist_ok=True)\n",
    "\n",
    "ROOT_COLORS = [1,2,209,4,94,226,6] #https://root-forum.cern.ch/t/what-is-your-best-way-to-increment-colors/13809\n",
    "zp_label = {'zp_upper_limit': 'M_{U} < M_{Zp}', 'zp_lower_limit':'M_{U} > M_{Zp}'}\n",
    "\n",
    "for Betard, zp_limit in product(Betards, zp_limits): #It takes 3 minutes by combination\n",
    "    \n",
    "    with Quiet():\n",
    "    \n",
    "        histos, canvas, legend = overlap_histos(\"m_ll(GeV)\", dict_histos= Histograms[Betard][zp_limit])\n",
    "        \n",
    "        canvas = TCanvas('','', 1280, 720)\n",
    "        legend = TLegend(0.6, .15, 0.89, .4)\n",
    "        legend.SetNColumns(2)\n",
    "        legend.SetLineWidth(1)\n",
    "        legend.SetHeader('#beta_{R} = 0, g_{U} = 1.0, g_{Zp} = 2.25',\"C\")\n",
    "        \n",
    "        for n, histo in enumerate(histos):\n",
    "            \n",
    "            label = f'mu_{list(Histograms[Betard][zp_limit].keys())[n]}_gu_1.0_gzp_2.25'\n",
    "            histo.Scale(1/read_xs_from_html('ta_ta_total_contribution', label, Betard, zp_limit))\n",
    "            \n",
    "            histo.SetLineColor(ROOT_COLORS[n])           \n",
    "            histo.SetFillColorAlpha(ROOT_COLORS[n], 0.02)    \n",
    "                \n",
    "            if 'lower' in zp_limit: \n",
    "                histo.GetYaxis().SetRangeUser(-0.065,0.005)\n",
    "                histos.GetXaxis().SetLimits(0,3000)\n",
    "            else: histo.GetYaxis().SetRangeUser(-0.88,0.025)\n",
    "        \n",
    "            legend.AddEntry(histo, list(Histograms[Betard][zp_limit].keys())[n])\n",
    "            \n",
    "        histos.SetTitle('Kinematic Interference; m_ll [GeV];')\n",
    "        histos.Draw(\"histnostack\")\n",
    "        legend.Draw('same')\n",
    "        \n",
    "        latex = TLatex()\n",
    "        latex.SetNDC()\n",
    "        latex.SetTextSize(0.04)\n",
    "        latex.DrawLatex(0.695,0.92,'#sqrt{s} = 13 TeV, ' + zp_label[zp_limit])\n",
    "        \n",
    "        canvas.Draw() \n",
    "        canvas.SaveAs(f'Article_Histograms/Kinematic_Interference_{zp_limit}_{Betard}{format_figure}') "
   ]
  },
  {
   "cell_type": "code",
   "execution_count": null,
   "id": "8010af98-8fd9-4c27-8c8b-041958ac603d",
   "metadata": {},
   "outputs": [],
   "source": []
  }
 ],
 "metadata": {
  "kernelspec": {
   "display_name": "Python 3 (ipykernel)",
   "language": "python",
   "name": "python3"
  },
  "language_info": {
   "codemirror_mode": {
    "name": "ipython",
    "version": 3
   },
   "file_extension": ".py",
   "mimetype": "text/x-python",
   "name": "python",
   "nbconvert_exporter": "python",
   "pygments_lexer": "ipython3",
   "version": "3.9.4"
  }
 },
 "nbformat": 4,
 "nbformat_minor": 5
}
