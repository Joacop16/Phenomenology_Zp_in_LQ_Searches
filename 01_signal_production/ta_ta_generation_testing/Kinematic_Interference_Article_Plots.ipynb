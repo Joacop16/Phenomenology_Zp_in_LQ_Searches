{
 "cells": [
  {
   "cell_type": "markdown",
   "id": "7c3971e8-4457-4363-99e0-9774f4b45695",
   "metadata": {},
   "source": [
    "$$\\textrm{Joaquin Peñuela Parra}$$\n",
    "$$\\textrm{University of Los Andes}$$\n",
    "$$\\textrm{High Energy Physics Group: Phenomenology of Particles}$$\n",
    "\n",
    "This code was written to be running in Docker. If you do not have a Docker inside hep-server2 please refer to: https://github.com/Phenomenology-group-uniandes/Tutoriales_Generales\n",
    "\n",
    "$\\textbf{Preliminaries}$ \n",
    "\n",
    "The libraries used here are:"
   ]
  },
  {
   "cell_type": "code",
   "execution_count": 1,
   "id": "31de8954-690b-45db-97e6-152c4b150d9a",
   "metadata": {},
   "outputs": [
    {
     "name": "stdout",
     "output_type": "stream",
     "text": [
      "Welcome to JupyROOT 6.22/06\n"
     ]
    },
    {
     "name": "stderr",
     "output_type": "stream",
     "text": [
      "Cloning into 'Uniandes_Framework'...\n"
     ]
    }
   ],
   "source": [
    "import os\n",
    "import subprocess\n",
    "import numpy as np\n",
    "import pandas as pd\n",
    "from itertools import product\n",
    "from ROOT import TCanvas, TLegend, TLatex, TPad\n",
    "\n",
    "## IMPORTANT: Make sure that \"Uniandes_Framework\" is in .gitignore\n",
    "framework_path = \"Uniandes_Framework\"\n",
    "\n",
    "if os.path.exists(framework_path):\n",
    "    # Pull updates if the framework is already cloned\n",
    "    try:\n",
    "        subprocess.run([\"git\", \"-C\", framework_path, \"pull\"])\n",
    "    except subprocess.CalledProcessError as e:\n",
    "        raise Exception(f\"Error occurred while pulling updates from the framework: {e}\")\n",
    "else:\n",
    "    # Clone the framework if it is not already cloned\n",
    "    try:\n",
    "        subprocess.run([\"git\", \"clone\", \"git@github.com:Phenomenology-group-uniandes/Uniandes_Framework.git\"])\n",
    "    except subprocess.CalledProcessError as e:\n",
    "        raise Exception(f\"Error occurred while cloning the framework: {e}\")\n",
    "from Uniandes_Framework.delphes_reader.lhereader import LHE_Loader, readLHEF, get_event_by_child\n",
    "from Uniandes_Framework.delphes_reader.root_analysis import get_kinematics_row, make_histograms, overlap_histos, Quiet, generate_csv, sum_histos, histos_matplotlib, write_root_file, write_txt_file_with_high_per_bin"
   ]
  },
  {
   "cell_type": "code",
   "execution_count": 2,
   "id": "93a07109-c59f-4b02-85c4-3a045ac751a7",
   "metadata": {},
   "outputs": [],
   "source": [
    "Folder = 'Data_SDE_1'\n",
    "\n",
    "Betards = ['woRHC']\n",
    "zp_limits = ['zp_upper_limit', 'zp_lower_limit']"
   ]
  },
  {
   "cell_type": "code",
   "execution_count": 3,
   "id": "00b97d43-4c60-4a74-b91b-3aed64ebd962",
   "metadata": {},
   "outputs": [
    {
     "data": {
      "text/plain": [
       "'SDE_1'"
      ]
     },
     "execution_count": 3,
     "metadata": {},
     "output_type": "execute_result"
    }
   ],
   "source": [
    "Folder[5:]"
   ]
  },
  {
   "cell_type": "code",
   "execution_count": 4,
   "id": "3e81bb9d-b349-41fb-bcb9-2c0feace9b71",
   "metadata": {},
   "outputs": [],
   "source": [
    "M_Us = np.arange(1000,3500,500)\n",
    "g_Us = np.arange(0.5,1.5,0.5)\n",
    "g_Zps = np.arange(0.5,2,0.5)\n",
    "\n",
    "g_Us = [1.0]\n",
    "g_Zps = [1.0]"
   ]
  },
  {
   "cell_type": "code",
   "execution_count": 5,
   "id": "9688cdbb-1618-4fd9-b1b9-ecda2d69a1ff",
   "metadata": {},
   "outputs": [],
   "source": [
    "def read_xs_from_html(signal, mu_gu_gzp_label, Betard, zp_limit):\n",
    "    html_path = os.path.join(os.getcwd(), Folder, Betard, zp_limit, signal,  mu_gu_gzp_label, 'crossx.html')\n",
    "    html_table = pd.read_html(html_path)\n",
    "    column_xs = html_table[0]['Cross section (pb)']\n",
    "    return float(column_xs[0].split(' ')[0])    "
   ]
  },
  {
   "cell_type": "code",
   "execution_count": 6,
   "id": "fb7a3c8e-c138-4108-b3bf-bcd389c1c287",
   "metadata": {},
   "outputs": [],
   "source": [
    "generation_options = {'ta_ta_virtual_contribution':  'generate p p > ta ta QED = 0 $$ zp', \n",
    "                      'ta_ta_real_contribution': 'generate p p > zp > ta ta QED = 0',\n",
    "                      'ta_ta_total_contribution': 'generate p p > ta ta QED = 0'}"
   ]
  },
  {
   "cell_type": "code",
   "execution_count": 7,
   "id": "327dcd72-4533-4730-a9d0-b1274ebff9aa",
   "metadata": {
    "tags": []
   },
   "outputs": [],
   "source": [
    "Kinematic_information = {'woRHC':{'zp_upper_limit':{}, 'zp_lower_limit':{}}}\n",
    "\n",
    "for mu , gu, gzp, Betard, zp_limit in product(M_Us,g_Us, g_Zps, Betards, zp_limits): \n",
    "    \n",
    "    label = f'mu_{mu}_gu_{gu}_gzp_{gzp}'\n",
    "    Kinematic_information[Betard][zp_limit][label] = {}\n",
    "    \n",
    "    for signal in generation_options.keys(): \n",
    "        \n",
    "        CSV_File_path = os.path.join(Folder, Betard, zp_limit, signal, label, 'Kinematic_Information.csv')\n",
    "        Kinematic_information[Betard][zp_limit][label][signal] = pd.read_csv(CSV_File_path)\n",
    "\n",
    "        #Scaling M to TeV\n",
    "        Kinematic_information[Betard][zp_limit][label][signal][\"m_ll(GeV)\"] = Kinematic_information[Betard][zp_limit][label][signal][\"m_ll(GeV)\"]/1000"
   ]
  },
  {
   "cell_type": "code",
   "execution_count": 8,
   "id": "6dce940f-5ec9-45ea-8c34-a22b920ff9ff",
   "metadata": {},
   "outputs": [
    {
     "data": {
      "image/png": "[encoded data removed]",
      "text/plain": [
       "<IPython.core.display.Image object>"
      ]
     },
     "metadata": {},
     "output_type": "display_data"
    }
   ],
   "source": [
    "Histograms = {'woRHC':{'zp_upper_limit':{}, 'zp_lower_limit':{}}}\n",
    "\n",
    "for mu , gu, gzp, Betard, zp_limit in product(M_Us,g_Us, g_Zps, Betards, zp_limits):\n",
    "    Histograms[Betard][zp_limit][f'gu_{gu}_gzp_{gzp}'] = {}\n",
    "\n",
    "for mu , gu, gzp, Betard, zp_limit in product(M_Us,g_Us, g_Zps, Betards, zp_limits):\n",
    "\n",
    "    # if 'lower' in zp_limit: default_hist_bins_dict={\"m_ll(GeV)\" : [68, 100, 3500.0]}\n",
    "    # else: default_hist_bins_dict={\"m_ll(GeV)\" : [88, 100, 4500.0]}\n",
    "\n",
    "    if 'lower' in zp_limit: default_hist_bins_dict={\"m_ll(GeV)\" : [68, 0.1, 3.5]}\n",
    "    else: default_hist_bins_dict={\"m_ll(GeV)\" : [88, 0.1, 4.5]}\n",
    "        \n",
    "    label = f'mu_{mu}_gu_{gu}_gzp_{gzp}'\n",
    "          \n",
    "    #Normalized by XS:\n",
    "    H_Total = make_histograms(Kinematic_information[Betard][zp_limit][label]['ta_ta_total_contribution'], hist_bins_dict = default_hist_bins_dict, integral = read_xs_from_html('ta_ta_total_contribution', label, Betard, zp_limit))\n",
    "    H_Virtual = make_histograms(Kinematic_information[Betard][zp_limit][label]['ta_ta_virtual_contribution'], hist_bins_dict = default_hist_bins_dict, integral = read_xs_from_html('ta_ta_virtual_contribution', label, Betard, zp_limit))\n",
    "    H_Real = make_histograms(Kinematic_information[Betard][zp_limit][label]['ta_ta_real_contribution'], hist_bins_dict = default_hist_bins_dict, integral = read_xs_from_html('ta_ta_real_contribution', label, Betard, zp_limit))\n",
    "\n",
    "    H_Sum = sum_histos([H_Virtual[\"m_ll(GeV)\"], H_Real[\"m_ll(GeV)\"]])\n",
    "    H_Division = H_Sum/H_Total[\"m_ll(GeV)\"]\n",
    "    Histograms[Betard][zp_limit][f'gu_{gu}_gzp_{gzp}'][str(mu)] =  {\"m_ll(GeV)\": sum_histos([H_Total[\"m_ll(GeV)\"], H_Sum], substract = True)}\n",
    "\n",
    "os.makedirs(os.path.join(f'Article_Histograms_{Folder[5:]}'), exist_ok=True)\n",
    "\n",
    "ROOT_COLORS = [1,2,209,4,94,226,6] #https://root-forum.cern.ch/t/what-is-your-best-way-to-increment-colors/13809\n",
    "\n",
    "zp_label = {'zp_upper_limit': \"M_{Z'}= #sqrt{3/2} M_{U}\", 'zp_lower_limit':\"M_{Z'}= #sqrt{1/2} M_{U}\"}\n",
    "# zp_label = {'zp_upper_limit': \"m(Z')= #sqrt{3/2} m(LQ)\", 'zp_lower_limit':\"m(Z')= #sqrt{1/2} m(LQ)\"}\n",
    "\n",
    "\n",
    "for gu, gzp, Betard, zp_limit in product(g_Us, g_Zps, Betards, zp_limits):\n",
    "    \n",
    "    with Quiet():\n",
    "    \n",
    "        histos, canvas, legend = overlap_histos(\"m_ll(GeV)\", dict_histos= Histograms[Betard][zp_limit][f'gu_{gu}_gzp_{gzp}'])\n",
    "        \n",
    "        canvas = TCanvas('','',500, 600)\n",
    "        legend = TLegend(0.58, .125, 0.89, .5)\n",
    "        legend.SetTextSize(0.04)\n",
    "        legend.SetNColumns(1)\n",
    "        legend.SetLineWidth(1)\n",
    "        legend.SetHeader(\"g_{U} = \" + str(gu) + \", g_{Z'} = \" + str(gzp),\"C\")\n",
    "        \n",
    "        for n, histo in enumerate(histos):\n",
    "            gu_gzp_label = f'gu_{gu}_gzp_{gzp}'\n",
    "            label = f'mu_{list(Histograms[Betard][zp_limit][gu_gzp_label].keys())[n]}_gu_{gu}_gzp_{gzp}'\n",
    "            histo.Scale(1/read_xs_from_html('ta_ta_total_contribution', label, Betard, zp_limit))\n",
    "            \n",
    "            histo.SetLineColor(ROOT_COLORS[n])           \n",
    "            histo.SetFillColorAlpha(ROOT_COLORS[n], 0.00)  \n",
    "\n",
    "                \n",
    "            if 'lower' in zp_limit: histo.GetYaxis().SetRangeUser(-0.035,0.02)\n",
    "            else: histo.GetYaxis().SetRangeUser(-0.045,0.02)\n",
    "            #else: histo.GetYaxis().SetRangeUser(-0.05,0.005)\n",
    "            #histo.GetXaxis().SetRangeUser(100,3500)\n",
    "\n",
    "            legend.AddEntry(histo, 'M_{U} = ' + str(float(list(Histograms[Betard][zp_limit][gu_gzp_label].keys())[n])/1000) + ' TeV ')\n",
    "            # legend.AddEntry(histo, 'm(LQ) = ' + str(float(list(Histograms[Betard][zp_limit][gu_gzp_label].keys())[n])/1000) + ' TeV ')\n",
    "        \n",
    "        histos.SetTitle('; m(#tau, #tau) [TeV]; Relative Kinematic Interference [A.U]')\n",
    "        histos.GetXaxis().CenterTitle(True)\n",
    "        histos.GetYaxis().CenterTitle(True)\n",
    "        \n",
    "        histos.GetXaxis().SetTitleSize(0.05)\n",
    "        histos.GetYaxis().SetTitleSize(0.05)\n",
    "        histos.GetXaxis().SetLabelSize(0.04)\n",
    "        histos.GetYaxis().SetLabelSize(0.04)\n",
    "        \n",
    "        histos.GetXaxis().SetLabelOffset(0.01)\n",
    "        histos.GetYaxis().SetLabelOffset(0.0001)\n",
    "        histos.GetXaxis().SetTitleOffset(1.0)\n",
    "        histos.GetYaxis().SetTitleOffset(0.95)\n",
    "\n",
    "        histos.GetXaxis().SetMaxDigits(2)\n",
    "        histos.GetYaxis().SetMaxDigits(1)\n",
    "\n",
    "        histos.Draw(\"histnostack\")\n",
    "        legend.Draw('same')  \n",
    "        \n",
    "        latex = TLatex()\n",
    "        latex.SetTextFont(22) #https://root.cern.ch/doc/master/classTAttText.html\n",
    "        latex.SetNDC()\n",
    "        latex.SetTextSize(0.04)\n",
    "        latex.DrawLatex(0.32,0.92,'#sqrt{s} = 13 TeV, #beta_{R} = 0, ' + zp_label[zp_limit]) #with M_{Z'}\n",
    "    \n",
    "        # latex.DrawLatex(0.52,0.92,'#sqrt{s} = 13 TeV, ' + zp_label[zp_limit]) #with m(Z')\n",
    "        # latex.DrawLatex(0.1,0.92,'Relative Kinematic Interference')\n",
    "\n",
    "        #Font like Times:\n",
    "        legend.SetTextFont(132)\n",
    "        histos.GetXaxis().SetTitleFont(132)\n",
    "        histos.GetXaxis().SetLabelFont(132)\n",
    "        histos.GetYaxis().SetTitleFont(132)\n",
    "        histos.GetYaxis().SetLabelFont(132)\n",
    "      \n",
    "        canvas.SetGrid()\n",
    "        canvas.Draw() \n",
    "        canvas.Print(f'Article_Histograms_{Folder[5:]}/Kinematic_Interference_gu_{gu}_gzp_{gzp}_{zp_limit}_{Betard}.png') \n",
    "        canvas.Print(f'Article_Histograms_{Folder[5:]}/Kinematic_Interference_gu_{gu}_gzp_{gzp}_{zp_limit}_{Betard}.pdf') "
   ]
  },
  {
   "cell_type": "code",
   "execution_count": 9,
   "id": "c994c6f9-6931-49a4-b8da-8a55f63882cf",
   "metadata": {},
   "outputs": [],
   "source": [
    "# CANVAS2YAxis = TCanvas('','', 600, 400)    \n",
    "# Pad1 = TPad('pad1','', 0, 0, 1, 1)\n",
    "# Pad2 = TPad('pad2','', 0, 0, 1, 1)\n",
    "# Pad2.SetFillStyle(4000)\n",
    "# Pad2.SetFrameFillStyle(0)\n",
    "# Pad1.SetFillStyle(4000)\n",
    "# Pad1.SetFrameFillStyle(0)\n",
    "\n",
    "# Pad1.Draw()\n",
    "# Pad1.cd()\n",
    "# H_Virtual[\"m_ll(GeV)\"].Draw('hist')\n",
    "\n",
    "# Pad2.Draw()\n",
    "# Pad2.cd()\n",
    "# H_Real[\"m_ll(GeV)\"].SetLineColor(2)\n",
    "# H_Real[\"m_ll(GeV)\"].Draw(\"histY+\")\n",
    "\n",
    "# #CANVAS2YAxis.Print('prueba.png')\n",
    "# CANVAS2YAxis.Draw()"
   ]
  },
  {
   "cell_type": "code",
   "execution_count": 10,
   "id": "225410f8-6988-47c5-ac8d-d13dfff56664",
   "metadata": {},
   "outputs": [],
   "source": [
    "\n",
    "# for gu, gzp, Betard in product(g_Us, g_Zps, Betards):\n",
    "    \n",
    "#     with Quiet():\n",
    "#         gu_gzp_label = f'gu_{gu}_gzp_{gzp}'\n",
    "        \n",
    "#         histos1, canvas, legend = overlap_histos(\"m_ll(GeV)\", dict_histos= Histograms[Betard]['zp_upper_limit'][f'gu_{gu}_gzp_{gzp}'])\n",
    "        \n",
    "#         for n, histo in enumerate(histos1):\n",
    "#             label = f'mu_{list(Histograms[Betard][zp_limit][gu_gzp_label].keys())[n]}_gu_{gu}_gzp_{gzp}'\n",
    "            \n",
    "#             histo.SetLineColor(ROOT_COLORS[n])    \n",
    "#             histo.SetLineStyle(1)\n",
    "#             histo.SetFillColorAlpha(ROOT_COLORS[n], 0.00)    \n",
    "\n",
    "#         histos2, canvas, legend = overlap_histos(\"m_ll(GeV)\", dict_histos= Histograms[Betard]['zp_lower_limit'][f'gu_{gu}_gzp_{gzp}'])\n",
    "#         canvas = TCanvas('','', 1280, 720)\n",
    "#         legend = TLegend(0.5, .15, 0.89, .4)\n",
    "#         legend.SetNColumns(2)\n",
    "#         legend.SetLineWidth(1)\n",
    "#         legend.SetHeader(\"#beta_{R} = 0, g_{U} = \" + str(gu) + \", g_{Z'} = \" + str(gzp),\"C\")\n",
    "        \n",
    "#         for n, histo in enumerate(histos2):\n",
    "#             gu_gzp_label = f'gu_{gu}_gzp_{gzp}'\n",
    "#             label = f'mu_{list(Histograms[Betard][zp_limit][gu_gzp_label].keys())[n]}_gu_{gu}_gzp_{gzp}'\n",
    "            \n",
    "#             histo.SetLineColor(ROOT_COLORS[n])\n",
    "#             histo.SetLineStyle(2)\n",
    "#             histo.SetFillColorAlpha(ROOT_COLORS[n], 0.00)  \n",
    "#             legend.AddEntry(histo, 'm_{U} = ' + str(float(list(Histograms[Betard][zp_limit][gu_gzp_label].keys())[n])/1000) + ' TeV ')\n",
    "                \n",
    "#         histos1.GetXaxis().SetLimits(100,3000)\n",
    "#         #histos2.GetXaxis().SetLimits(100,3000)\n",
    "#         histos1.SetTitle('Kinematic Interference; m_{ll} [GeV];')\n",
    "#         histos2.SetTitle(';;')\n",
    "\n",
    "#         Pad1 = TPad('pad1','', 0, 0, 1, 1)\n",
    "#         Pad2 = TPad('pad2','', 0, 0, 1, 1)\n",
    "#         Pad2.SetFillStyle(4000)\n",
    "#         Pad2.SetFrameFillStyle(0)\n",
    "        \n",
    "#         Pad1.Draw()\n",
    "#         Pad1.cd()\n",
    "#         histos1.Draw(\"histnostack\")        \n",
    "#         legend.Draw('same')\n",
    "#         latex = TLatex()\n",
    "#         latex.SetNDC()\n",
    "#         latex.SetTextSize(0.04)\n",
    "#         latex.DrawLatex(0.655,0.92,'#sqrt{s} = 13 TeV')\n",
    "#         Pad2.Draw()\n",
    "#         Pad2.cd()\n",
    "#         histos2.Draw(\"histnostackY+\")            \n",
    "        \n",
    "#         #canvas.SetGrid()\n",
    "#         canvas.Draw() \n",
    "#         canvas.Print('prueba.png')\n",
    "#         #canvas.SaveAs(f'Article_Histograms_{Folder[5:]}/Kinematic_Interference_gu_{gu}_gzp_{gzp}_{zp_limit}_{Betard}.png') \n",
    "#         #canvas.SaveAs(f'Article_Histograms_{Folder[5:]}/Kinematic_Interference_gu_{gu}_gzp_{gzp}_{zp_limit}_{Betard}.pdf') "
   ]
  },
  {
   "cell_type": "code",
   "execution_count": null,
   "id": "33f1f721-1606-4a68-8033-2752b7c38690",
   "metadata": {},
   "outputs": [],
   "source": []
  }
 ],
 "metadata": {
  "kernelspec": {
   "display_name": "Python 3 (ipykernel)",
   "language": "python",
   "name": "python3"
  },
  "language_info": {
   "codemirror_mode": {
    "name": "ipython",
    "version": 3
   },
   "file_extension": ".py",
   "mimetype": "text/x-python",
   "name": "python",
   "nbconvert_exporter": "python",
   "pygments_lexer": "ipython3",
   "version": "3.9.4"
  }
 },
 "nbformat": 4,
 "nbformat_minor": 5
}
