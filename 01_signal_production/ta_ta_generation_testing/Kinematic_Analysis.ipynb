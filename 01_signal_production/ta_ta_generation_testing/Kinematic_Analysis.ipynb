{
 "cells": [
  {
   "cell_type": "markdown",
   "id": "7c3971e8-4457-4363-99e0-9774f4b45695",
   "metadata": {},
   "source": [
    "$$\\textrm{Joaquin Peñuela Parra}$$\n",
    "$$\\textrm{University of Los Andes}$$\n",
    "$$\\textrm{High Energy Physics Group: Phenomenology of Particles}$$\n",
    "\n",
    "This code was written to be running in Docker. If you do not have a Docker inside hep-server2 please refer to: https://github.com/Phenomenology-group-uniandes/Tutoriales_Generales\n",
    "\n",
    "$\\textbf{Preliminaries}$ \n",
    "\n",
    "The libraries used here are:"
   ]
  },
  {
   "cell_type": "code",
   "execution_count": 1,
   "id": "31de8954-690b-45db-97e6-152c4b150d9a",
   "metadata": {},
   "outputs": [
    {
     "name": "stdout",
     "output_type": "stream",
     "text": [
      "Welcome to JupyROOT 6.22/06\n"
     ]
    },
    {
     "name": "stderr",
     "output_type": "stream",
     "text": [
      "hint: Pulling without specifying how to reconcile divergent branches is\n",
      "hint: discouraged. You can squelch this message by running one of the following\n",
      "hint: commands sometime before your next pull:\n",
      "hint: \n",
      "hint:   git config pull.rebase false  # merge (the default strategy)\n",
      "hint:   git config pull.rebase true   # rebase\n",
      "hint:   git config pull.ff only       # fast-forward only\n",
      "hint: \n",
      "hint: You can replace \"git config\" with \"git config --global\" to set a default\n",
      "hint: preference for all repositories. You can also pass --rebase, --no-rebase,\n",
      "hint: or --ff-only on the command line to override the configured default per\n",
      "hint: invocation.\n"
     ]
    },
    {
     "name": "stdout",
     "output_type": "stream",
     "text": [
      "Already up to date.\n"
     ]
    }
   ],
   "source": [
    "import os\n",
    "import subprocess\n",
    "import numpy as np\n",
    "import pandas as pd\n",
    "from itertools import product\n",
    "from multiprocessing import Pool\n",
    "from ROOT import TCanvas\n",
    "from ROOT import TPad\n",
    "import matplotlib.pyplot as plt\n",
    "\n",
    "## IMPORTANT: Make sure that \"Uniandes_Framework\" is in .gitignore\n",
    "framework_path = \"Uniandes_Framework\"\n",
    "\n",
    "if os.path.exists(framework_path):\n",
    "    # Pull updates if the framework is already cloned\n",
    "    try:\n",
    "        subprocess.run([\"git\", \"-C\", framework_path, \"pull\"])\n",
    "    except subprocess.CalledProcessError as e:\n",
    "        raise Exception(f\"Error occurred while pulling updates from the framework: {e}\")\n",
    "else:\n",
    "    # Clone the framework if it is not already cloned\n",
    "    try:\n",
    "        subprocess.run([\"git\", \"clone\", \"git@github.com:Phenomenology-group-uniandes/Uniandes_Framework.git\"])\n",
    "    except subprocess.CalledProcessError as e:\n",
    "        raise Exception(f\"Error occurred while cloning the framework: {e}\")\n",
    "from Uniandes_Framework.delphes_reader.lhereader import LHE_Loader, readLHEF, get_event_by_child\n",
    "from Uniandes_Framework.delphes_reader.root_analysis import get_kinematics_row, make_histograms, overlap_histos, Quiet, generate_csv, sum_histos, histos_matplotlib, write_root_file, write_txt_file_with_high_per_bin"
   ]
  },
  {
   "cell_type": "code",
   "execution_count": 2,
   "id": "93a07109-c59f-4b02-85c4-3a045ac751a7",
   "metadata": {},
   "outputs": [],
   "source": [
    "Folder = 'Data_Parton_Level'\n",
    "\n",
    "Betards = ['woRHC']\n",
    "zp_limits = ['zp_upper_limit', 'zp_lower_limit']"
   ]
  },
  {
   "cell_type": "code",
   "execution_count": 3,
   "id": "5cabe52b-ad6d-4ef9-b0e3-aaa1531b869e",
   "metadata": {},
   "outputs": [],
   "source": [
    "generation_options = {'ta_ta_virtual_contribution':  'generate p p > ta ta QED = 0 / zp', \n",
    "                      'ta_ta_real_contribution': 'generate p p > zp, zp > ta ta QED = 0',\n",
    "                      'ta_ta_total_contribution': 'generate p p > ta ta QED = 0'}"
   ]
  },
  {
   "cell_type": "code",
   "execution_count": 4,
   "id": "3e81bb9d-b349-41fb-bcb9-2c0feace9b71",
   "metadata": {},
   "outputs": [],
   "source": [
    "M_Us = np.arange(1000,3500,500)\n",
    "# g_Us = np.arange(0.5,2,0.5)\n",
    "g_Zps = np.arange(0.5,2,0.5)\n",
    "\n",
    "# M_Us = [1000,1500]\n",
    "g_Us = [1.0]\n",
    "g_Zps = [2.25]"
   ]
  },
  {
   "cell_type": "code",
   "execution_count": 5,
   "id": "9688cdbb-1618-4fd9-b1b9-ecda2d69a1ff",
   "metadata": {},
   "outputs": [],
   "source": [
    "def read_xs_from_html(signal, mu_gu_gzp_label, Betard, zp_limit):\n",
    "    html_path = os.path.join(os.getcwd(), Folder, Betard, zp_limit, signal,  mu_gu_gzp_label, 'crossx.html')\n",
    "    html_table = pd.read_html(html_path)\n",
    "    column_xs = html_table[0]['Cross section (pb)']\n",
    "    return float(column_xs[0].split(' ')[0])    "
   ]
  },
  {
   "cell_type": "code",
   "execution_count": 6,
   "id": "fb7a3c8e-c138-4108-b3bf-bcd389c1c287",
   "metadata": {},
   "outputs": [],
   "source": [
    "generation_options = {'ta_ta_virtual_contribution':  'generate p p > ta ta QED = 0 $$ zp', \n",
    "                      'ta_ta_real_contribution': 'generate p p > zp > ta ta QED = 0',\n",
    "                      'ta_ta_total_contribution': 'generate p p > ta ta QED = 0'}"
   ]
  },
  {
   "cell_type": "code",
   "execution_count": 7,
   "id": "327dcd72-4533-4730-a9d0-b1274ebff9aa",
   "metadata": {
    "tags": []
   },
   "outputs": [],
   "source": [
    "Kinematic_information = {'woRHC':{'zp_upper_limit':{}, 'zp_lower_limit':{}}}\n",
    "\n",
    "for mu , gu, gzp, Betard, zp_limit in product(M_Us,g_Us, g_Zps, Betards, zp_limits): #It takes 3 minutes by combination\n",
    "    \n",
    "    label = f'mu_{mu}_gu_{gu}_gzp_{gzp}'\n",
    "    Kinematic_information[Betard][zp_limit][label] = {}\n",
    "    \n",
    "    for signal in generation_options.keys(): \n",
    "        \n",
    "        # if not os.path.exists(CSV_File_path): read_lhe_file(signal)\n",
    "        CSV_File_path = os.path.join(Folder, Betard, zp_limit, signal, label, 'Kinematic_Information.csv')\n",
    "        Kinematic_information[Betard][zp_limit][label][signal] = pd.read_csv(CSV_File_path)"
   ]
  },
  {
   "cell_type": "code",
   "execution_count": 8,
   "id": "4c79da9a-72f3-468c-baf9-a9beff852cb5",
   "metadata": {
    "tags": []
   },
   "outputs": [],
   "source": [
    "# Kinematic_information"
   ]
  },
  {
   "cell_type": "code",
   "execution_count": 9,
   "id": "c2db3b51-5dda-4a2f-8621-58b33d071c88",
   "metadata": {
    "tags": []
   },
   "outputs": [],
   "source": [
    "default_hist_bins_dict={\n",
    "    # \"#Delta{R}\":[96,0,7],\n",
    "    # \"#Delta{#eta}\":[80,-5,5],\n",
    "    # \"#Delta{#phi}\":[52,-3.25,3.25],\n",
    "    # \"#Delta{pT}\":[120, 0.0, 1500.0],\n",
    "    # \"#Delta{#vec{pT}}\":[240, 0.0, 4800.0],\n",
    "    # \"#Delta{#vec{p}}\":[240, 0.0, 4800.0],\n",
    "    # \"MET(GeV)\":[80, 0.0, 1000.0],\n",
    "    # \"pT_\": [160, 0.0, 2000.0],\n",
    "    # \"sT(GeV)\": [200, 0.0, 4000.0],\n",
    "    # \"mT(GeV)\": [200, 0.0, 4000.0],\n",
    "    # \"#eta_\":[80, -5, 5],\n",
    "    # \"#phi_\":[128, -3.2, 3.2],\n",
    "    # \"Energy_\":[80, 0.0, 1000.0],\n",
    "    \"m_ll(GeV)\" : [100, 0, 5000.0]\n",
    "}"
   ]
  },
  {
   "cell_type": "code",
   "execution_count": 10,
   "id": "f52dacfd-cb6c-4e56-b3f1-dc064e55db9a",
   "metadata": {},
   "outputs": [],
   "source": [
    "legends = {'ta_ta_virtual_contribution': 'non-res','ta_ta_real_contribution':'zp-onshell','ta_ta_total_contribution':'total'}"
   ]
  },
  {
   "cell_type": "code",
   "execution_count": 11,
   "id": "9de0a46c-e25d-402a-8ea2-161b2db7aae1",
   "metadata": {},
   "outputs": [],
   "source": [
    "# !rm -rf Histograms/"
   ]
  },
  {
   "cell_type": "code",
   "execution_count": 12,
   "id": "a15b7eb0-f3ca-41ec-b01d-c4037e746dd5",
   "metadata": {
    "tags": []
   },
   "outputs": [],
   "source": [
    "Histograms_1 = {'woRHC':{'zp_upper_limit':{}, 'zp_lower_limit':{}}}\n",
    "Histograms_2 = {'woRHC':{'zp_upper_limit':{}, 'zp_lower_limit':{}}}\n",
    "Histograms_3 = {'woRHC':{'zp_upper_limit':{}, 'zp_lower_limit':{}}}\n",
    "Histograms_4 = {'woRHC':{'zp_upper_limit':{}, 'zp_lower_limit':{}}}\n",
    "Histograms_5 = {'woRHC':{'zp_upper_limit':{}, 'zp_lower_limit':{}}}\n",
    "\n",
    "for mu , gu, gzp, Betard, zp_limit in product(M_Us,g_Us, g_Zps, Betards, zp_limits):\n",
    "    \n",
    "    label = f'mu_{mu}_gu_{gu}_gzp_{gzp}'\n",
    "    \n",
    "    Histograms_1[Betard][zp_limit][label] = {legends['ta_ta_total_contribution']:{}, 'non-res + zp-onshell': {}, 'non-res': {}}\n",
    "    Histograms_2[Betard][zp_limit][label] = {legends['ta_ta_virtual_contribution']: {}, legends['ta_ta_real_contribution']: {}}\n",
    "    Histograms_3[Betard][zp_limit][label] = {'(non-res + zp-onshell)/total': {}}\n",
    "    Histograms_4[Betard][zp_limit][label] = {'non-res/total': {}}\n",
    "    Histograms_5[Betard][zp_limit][label] = {'Interference': {}}\n",
    "    \n",
    "    #Normalized by 1:\n",
    "    # Histograms_1[Betard][zp_limit][label][legends['ta_ta_total_contribution']] = make_histograms(Kinematic_information[Betard][zp_limit][label]['ta_ta_total_contribution'], hist_bins_dict = default_hist_bins_dict)\n",
    "    # Histograms_2[Betard][zp_limit][label][legends['ta_ta_virtual_contribution']] = make_histograms(Kinematic_information[Betard][zp_limit][label]['ta_ta_virtual_contribution'], hist_bins_dict = default_hist_bins_dict)\n",
    "    # Histograms_2[Betard][zp_limit][label][legends['ta_ta_real_contribution']] = make_histograms(Kinematic_information[Betard][zp_limit][label]['ta_ta_real_contribution'], hist_bins_dict = default_hist_bins_dict)\n",
    "     \n",
    "    #Normalized by XS:\n",
    "    Histograms_1[Betard][zp_limit][label][legends['ta_ta_total_contribution']] = make_histograms(Kinematic_information[Betard][zp_limit][label]['ta_ta_total_contribution'], hist_bins_dict = default_hist_bins_dict, integral = read_xs_from_html('ta_ta_total_contribution', label, Betard, zp_limit))\n",
    "    Histograms_2[Betard][zp_limit][label][legends['ta_ta_virtual_contribution']] = make_histograms(Kinematic_information[Betard][zp_limit][label]['ta_ta_virtual_contribution'], hist_bins_dict = default_hist_bins_dict, integral = read_xs_from_html('ta_ta_virtual_contribution', label, Betard, zp_limit))\n",
    "    Histograms_2[Betard][zp_limit][label][legends['ta_ta_real_contribution']] = make_histograms(Kinematic_information[Betard][zp_limit][label]['ta_ta_real_contribution'], hist_bins_dict = default_hist_bins_dict, integral = read_xs_from_html('ta_ta_real_contribution', label, Betard, zp_limit))\n",
    "\n",
    "    for key in Histograms_1[Betard][zp_limit][label][legends['ta_ta_total_contribution']].keys(): \n",
    "        \n",
    "        Histograms_1[Betard][zp_limit][label]['non-res + zp-onshell'][key] = sum_histos([Histograms_2[Betard][zp_limit][label][legends['ta_ta_virtual_contribution']][key], Histograms_2[Betard][zp_limit][label][legends['ta_ta_real_contribution']][key]])\n",
    "        Histograms_3[Betard][zp_limit][label]['(non-res + zp-onshell)/total'][key] = Histograms_1[Betard][zp_limit][label]['non-res + zp-onshell'][key]/Histograms_1[Betard][zp_limit][label][legends['ta_ta_total_contribution']][key]\n",
    "        Histograms_5[Betard][zp_limit][label]['Interference'][key] =  sum_histos([Histograms_1[Betard][zp_limit][label][legends['ta_ta_total_contribution']][key], Histograms_1[Betard][zp_limit][label]['non-res + zp-onshell'][key]], substract = True)\n",
    "        \n",
    "        # Histograms_1[Betard][zp_limit][label]['non-res'][key] = Histograms_2[Betard][zp_limit][label][legends['ta_ta_virtual_contribution']][key]\n",
    "        # Histograms_4[Betard][zp_limit][label]['non-res/total'][key] = Histograms_2[Betard][zp_limit][label][legends['ta_ta_virtual_contribution']][key]/Histograms_1[Betard][zp_limit][label][legends['ta_ta_total_contribution']][key]"
   ]
  },
  {
   "cell_type": "code",
   "execution_count": 13,
   "id": "6dce940f-5ec9-45ea-8c34-a22b920ff9ff",
   "metadata": {},
   "outputs": [
    {
     "data": {
      "image/png": "[encoded data removed]",
      "text/plain": [
       "<IPython.core.display.Image object>"
      ]
     },
     "metadata": {},
     "output_type": "display_data"
    }
   ],
   "source": [
    "format_figure = '.png'\n",
    "\n",
    "for mu , gu, gzp, Betard, zp_limit in product(M_Us,g_Us, g_Zps, Betards, zp_limits): #It takes 3 minutes by combination\n",
    "    \n",
    "    with Quiet():\n",
    "    \n",
    "        label = f'mu_{mu}_gu_{gu}_gzp_{gzp}'\n",
    "\n",
    "        Hist_to_save = {}\n",
    "        os.makedirs(os.path.join('Histograms', Betard, zp_limit), exist_ok=True)\n",
    "\n",
    "        histos1, canvas, legend1 = overlap_histos(\"m_ll(GeV)\", dict_histos= Histograms_1[Betard][zp_limit][label], log_scale= True)\n",
    "        for n, histo in enumerate(histos1):\n",
    "            histo.Scale(1/histo.Integral())\n",
    "            Hist_to_save[list(Histograms_1[Betard][zp_limit][label].keys())[n]] = histo\n",
    "        canvas.Update()    \n",
    "        canvas.SaveAs(f'Histograms/{Betard}/{zp_limit}/{label}_Total_and_non-res+zp-onshell{format_figure}') \n",
    "\n",
    "        histos2, canvas, legend2 = overlap_histos(\"m_ll(GeV)\", dict_histos= Histograms_2[Betard][zp_limit][label], log_scale= True)\n",
    "        for n, histo in enumerate(histos2):\n",
    "            histo.Scale(1/histo.Integral())\n",
    "            Hist_to_save[list(Histograms_2[Betard][zp_limit][label].keys())[n]] = histo\n",
    "        canvas.Update()   \n",
    "        canvas.SaveAs(f'Histograms/{Betard}/{zp_limit}/{label}_non-ress_and_zp-onshell{format_figure}') \n",
    "\n",
    "        histos3, canvas, legend3 = overlap_histos(\"m_ll(GeV)\", dict_histos= Histograms_3[Betard][zp_limit][label], log_scale= True)\n",
    "        for n, histo in enumerate(histos3):\n",
    "            #histo.Scale(1/histo.Integral())\n",
    "            histo.SetTitle(f'; m_ll(GeV);')\n",
    "            Hist_to_save[list(Histograms_3[Betard][zp_limit][label].keys())[n].replace('/', '_')] = histo\n",
    "        canvas.Update()   \n",
    "        canvas.SaveAs(f'Histograms/{Betard}/{zp_limit}/{label}_Division_non-res+zp-onshell_and_total{format_figure}') \n",
    "\n",
    "        histos5, canvas, legend5 = overlap_histos(\"m_ll(GeV)\", dict_histos= Histograms_5[Betard][zp_limit][label])\n",
    "        for n, histo in enumerate(histos5):\n",
    "            histo.Scale(1/read_xs_from_html('ta_ta_total_contribution', label, Betard, zp_limit))\n",
    "            # histo.GetYaxis().SetRangeUser(-0.06,0.01)\n",
    "            histo.SetTitle(f'; m_ll(GeV);')\n",
    "            Hist_to_save[list(Histograms_5[Betard][zp_limit][label].keys())[n]] = histo\n",
    "        canvas.Update()   \n",
    "        canvas.SaveAs(f'Histograms/{Betard}/{zp_limit}/{label}_Kinematic_Interference{format_figure}') \n",
    "        \n",
    "        \n",
    "        #Subplots:\n",
    "        \n",
    "        CANVAS_Subplots = TCanvas('','', 1200, 1600)    \n",
    "        Division = TPad('','', 0, 0, 1, 1, 0, 0 ,0)\n",
    "        Division.SetFillStyle(4000)\n",
    "        Division.Draw()\n",
    "        Division.Divide(2,4, 0.01, 0.01, 0)\n",
    "        \n",
    "        Division.cd(1).SetLogy()\n",
    "        histos1.Draw(\"histnostack\")\n",
    "        legend1.Draw('same')\n",
    "        Division.cd(2).SetLogy()\n",
    "        histos2.Draw(\"histnostack\")\n",
    "        legend2.Draw('same')\n",
    "        Division.cd(3).SetLogy()\n",
    "        histos3.Draw(\"histnostack\")\n",
    "        histos3.SetTitle(f'(non-res + zp-onshell)/total; m_ll(GeV);')        \n",
    "        Division.cd(4)\n",
    "        histos5.Draw(\"histnostack\")\n",
    "        histos5.SetTitle(f'Kinematic Interference; m_ll(GeV);')        \n",
    "        \n",
    "        CANVAS_Subplots.Print(f'Histograms/{Betard}/{zp_limit}/{label}_All_Histograms{format_figure}') \n",
    "        write_txt_file_with_high_per_bin(file_name= os.path.join('Histograms',Betard, zp_limit,f'{label}'), Dict_Hist= Hist_to_save) "
   ]
  },
  {
   "cell_type": "code",
   "execution_count": 14,
   "id": "8388944e-88d4-4cea-8b43-3469a023fe22",
   "metadata": {},
   "outputs": [],
   "source": [
    "# Hist_to_save"
   ]
  },
  {
   "cell_type": "code",
   "execution_count": 15,
   "id": "84528cdb-80ab-451d-9b25-6ad371e0c95a",
   "metadata": {},
   "outputs": [],
   "source": [
    "# from ROOT import TCanvas #It is necessary to show plots with ROOT.\n",
    "# from ROOT import TPad"
   ]
  },
  {
   "cell_type": "code",
   "execution_count": 16,
   "id": "9be0cf04-df53-4900-8c74-f4ce2abec416",
   "metadata": {},
   "outputs": [],
   "source": [
    "# canvas_pruebas = TCanvas('','', 600, 400)\n",
    "# Hist_to_save['Interference'].GetYaxis().SetRangeUser(-0.06,0.01)\n",
    "# Hist_to_save['Interference'].SetTitle(f'Interference; m_ll(GeV);')\n",
    "# Hist_to_save['Interference'].SetStats(0)\n",
    "# Hist_to_save['Interference'].Draw('hist')\n",
    "# canvas_pruebas.Draw()"
   ]
  },
  {
   "cell_type": "code",
   "execution_count": 17,
   "id": "fdb3adb5-2b33-4e26-9462-30174b2a7071",
   "metadata": {},
   "outputs": [],
   "source": [
    "# canvas_pruebas = TCanvas('','', 600, 800)\n",
    "\n",
    "# # canvas_pruebas.cd()\n",
    "# # canvas_pruebas.Divide(1,2, 0.01, 0.01, 0)\n",
    "\n",
    "# Division = TPad('','', 0, 0, 1, 1, 0, 0 ,0)\n",
    "# Division.SetFillStyle(4000)\n",
    "# Division.Draw()\n",
    "# Division.Divide(1,2, 0.01, 0.01, 0)\n",
    "\n",
    "# Division.cd(1).SetLogy()\n",
    "# Hist_to_save['Interference'].Draw('hist')\n",
    "# Division.cd(2)\n",
    "# Hist_to_save['non-res + zp-onshell'].Draw('hist')\n",
    "\n",
    "# canvas_pruebas.Print('prueba.png') "
   ]
  },
  {
   "cell_type": "code",
   "execution_count": 18,
   "id": "a8867d6a-a682-4935-899f-c31ae3e5c3cf",
   "metadata": {},
   "outputs": [],
   "source": [
    "!touch acabo_Kinematic_Analysis.txt"
   ]
  }
 ],
 "metadata": {
  "kernelspec": {
   "display_name": "Python 3 (ipykernel)",
   "language": "python",
   "name": "python3"
  },
  "language_info": {
   "codemirror_mode": {
    "name": "ipython",
    "version": 3
   },
   "file_extension": ".py",
   "mimetype": "text/x-python",
   "name": "python",
   "nbconvert_exporter": "python",
   "pygments_lexer": "ipython3",
   "version": "3.9.4"
  }
 },
 "nbformat": 4,
 "nbformat_minor": 5
}
