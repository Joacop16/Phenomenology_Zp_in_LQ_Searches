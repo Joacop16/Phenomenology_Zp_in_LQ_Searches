{
 "cells": [
  {
   "cell_type": "markdown",
   "id": "7c3971e8-4457-4363-99e0-9774f4b45695",
   "metadata": {},
   "source": [
    "$$\\textrm{Joaquin Peñuela Parra}$$\n",
    "$$\\textrm{University of Los Andes}$$\n",
    "$$\\textrm{High Energy Physics Group: Phenomenology of Particles}$$\n",
    "\n",
    "This code was written to be running in Docker. If you do not have a Docker inside hep-server2 please refer to: https://github.com/Phenomenology-group-uniandes/Tutoriales_Generales\n",
    "\n",
    "$\\textbf{Preliminaries}$ \n",
    "\n",
    "The libraries used here are:"
   ]
  },
  {
   "cell_type": "code",
   "execution_count": 1,
   "id": "31de8954-690b-45db-97e6-152c4b150d9a",
   "metadata": {},
   "outputs": [
    {
     "name": "stdout",
     "output_type": "stream",
     "text": [
      "Welcome to JupyROOT 6.22/06\n"
     ]
    },
    {
     "name": "stderr",
     "output_type": "stream",
     "text": [
      "hint: Pulling without specifying how to reconcile divergent branches is\n",
      "hint: discouraged. You can squelch this message by running one of the following\n",
      "hint: commands sometime before your next pull:\n",
      "hint: \n",
      "hint:   git config pull.rebase false  # merge (the default strategy)\n",
      "hint:   git config pull.rebase true   # rebase\n",
      "hint:   git config pull.ff only       # fast-forward only\n",
      "hint: \n",
      "hint: You can replace \"git config\" with \"git config --global\" to set a default\n",
      "hint: preference for all repositories. You can also pass --rebase, --no-rebase,\n",
      "hint: or --ff-only on the command line to override the configured default per\n",
      "hint: invocation.\n",
      "From github.com:Phenomenology-group-uniandes/Uniandes_Framework\n",
      " * [new branch]      new_features -> origin/new_features\n"
     ]
    },
    {
     "name": "stdout",
     "output_type": "stream",
     "text": [
      "Already up to date.\n"
     ]
    }
   ],
   "source": [
    "import os\n",
    "import subprocess\n",
    "import numpy as np\n",
    "import pandas as pd\n",
    "from itertools import product\n",
    "from multiprocessing import Pool\n",
    "from ROOT import TCanvas\n",
    "import matplotlib.pyplot as plt\n",
    "\n",
    "## IMPORTANT: Make sure that \"Uniandes_Framework\" is in .gitignore\n",
    "framework_path = \"Uniandes_Framework\"\n",
    "\n",
    "if os.path.exists(framework_path):\n",
    "    # Pull updates if the framework is already cloned\n",
    "    try:\n",
    "        subprocess.run([\"git\", \"-C\", framework_path, \"pull\"])\n",
    "    except subprocess.CalledProcessError as e:\n",
    "        raise Exception(f\"Error occurred while pulling updates from the framework: {e}\")\n",
    "else:\n",
    "    # Clone the framework if it is not already cloned\n",
    "    try:\n",
    "        subprocess.run([\"git\", \"clone\", \"git@github.com:Phenomenology-group-uniandes/Uniandes_Framework.git\"])\n",
    "    except subprocess.CalledProcessError as e:\n",
    "        raise Exception(f\"Error occurred while cloning the framework: {e}\")\n",
    "from Uniandes_Framework.delphes_reader.lhereader import LHE_Loader, readLHEF, get_event_by_child\n",
    "from Uniandes_Framework.delphes_reader.root_analysis import get_kinematics_row, make_histograms, overlap_histos, Quiet, generate_csv, sum_histos, histos_matplotlib"
   ]
  },
  {
   "cell_type": "code",
   "execution_count": 2,
   "id": "5cabe52b-ad6d-4ef9-b0e3-aaa1531b869e",
   "metadata": {},
   "outputs": [],
   "source": [
    "generation_options = {'e_e_virtual_contribution':  'generate p p > e+ e- $ z', \n",
    "                      'e_e_real_contribution': 'generate p p > z, z > e+ e-',\n",
    "                      'e_e_total_contribution': 'generate p p > e+ e-'}"
   ]
  },
  {
   "cell_type": "code",
   "execution_count": 3,
   "id": "9688cdbb-1618-4fd9-b1b9-ecda2d69a1ff",
   "metadata": {},
   "outputs": [],
   "source": [
    "def read_xs_from_html(signal):\n",
    "\n",
    "    html_path = os.path.join(os.getcwd(), signal, 'crossx.html')\n",
    "    html_table = pd.read_html(html_path)\n",
    "    column_xs = html_table[0]['Cross section (pb)']\n",
    "    return float(column_xs[0].split(' ')[0])    \n",
    "\n",
    "csv_initial = pd.read_csv(os.path.join('Uniandes_Framework', 'SimulationsPaths.csv'))\n",
    "\n",
    "csv_final = pd.concat(\n",
    "                        [csv_initial]\n",
    "                        +\n",
    "                        [ pd.DataFrame.from_dict(\n",
    "                        {\n",
    "                            'name': signal, \n",
    "                            'path': os.path.join(os.getcwd(), signal),  \n",
    "                            'xs(pb)': read_xs_from_html(signal)\n",
    "                        }, \n",
    "                        orient = 'index').T for signal in generation_options.keys()]\n",
    "                     )\n",
    "\n",
    "# save the new csv\n",
    "csv_final.to_csv('SimulationsPaths.csv', index = False)"
   ]
  },
  {
   "cell_type": "code",
   "execution_count": 8,
   "id": "2f5c6d15-1404-4e2f-b3ac-2f4eb9299cb5",
   "metadata": {},
   "outputs": [],
   "source": [
    "def read_lhe_file(signal_key):\n",
    "        \n",
    "    lhe_loader = LHE_Loader(signal_key, os.path.join(os.getcwd(), 'SimulationsPaths.csv'))\n",
    "    lhe_path_file = lhe_loader.Forest[0]\n",
    "    \n",
    "    # print(lhe_path_file)\n",
    "    \n",
    "    childs=readLHEF(lhe_path_file)\n",
    "    \n",
    "    results = list()\n",
    "    \n",
    "    for child in childs:\n",
    "        event = get_event_by_child(child)\n",
    "        electrons = event.getParticlesByIDs([-11,11])\n",
    "        if len(electrons) != 2: continue\n",
    "        electrons[0].SetName(\"#electron_{1}\")\n",
    "        electrons[1].SetName(\"#electron_{2}\")\n",
    "        sum_electrons = electrons[0].TLV + electrons[1].TLV\n",
    "        row = get_kinematics_row(electrons)\n",
    "        row[\"m_ll(GeV)\"] = sum_electrons.M()\n",
    "        row[\"sT(GeV)\"] = row[\"pT_{#electron_{1}}(GeV)\"] + row[\"pT_{#electron_{2}}(GeV)\"]\n",
    "        results.append(row)        \n",
    "    \n",
    "    generate_csv(results, os.path.join(signal_key, 'Kinematic_Information.csv'))"
   ]
  },
  {
   "cell_type": "code",
   "execution_count": 9,
   "id": "327dcd72-4533-4730-a9d0-b1274ebff9aa",
   "metadata": {
    "tags": []
   },
   "outputs": [
    {
     "name": "stdout",
     "output_type": "stream",
     "text": [
      "e_e_total_contribution imported with 0 trees!\n",
      "/disco4/personal_folders/Joaquin/2023/Semanas_19_20_21/ta_ta_generation_testing/e_e_total_contribution\n",
      "e_e_virtual_contribution imported with 0 trees!\n",
      "/disco4/personal_folders/Joaquin/2023/Semanas_19_20_21/ta_ta_generation_testing/e_e_virtual_contribution\n",
      "e_e_real_contribution imported with 0 trees!\n",
      "/disco4/personal_folders/Joaquin/2023/Semanas_19_20_21/ta_ta_generation_testing/e_e_real_contribution\n"
     ]
    }
   ],
   "source": [
    "with Pool(3) as p: p.map(read_lhe_file, generation_options.keys())"
   ]
  },
  {
   "cell_type": "code",
   "execution_count": 12,
   "id": "2459c84f-a983-4cb6-9483-7705c58b73aa",
   "metadata": {},
   "outputs": [],
   "source": [
    "Kinematic_information = {}\n",
    "\n",
    "for signal in generation_options.keys(): Kinematic_information[signal] = pd.read_csv(os.path.join(signal, 'Kinematic_Information.csv'))"
   ]
  },
  {
   "cell_type": "code",
   "execution_count": 24,
   "id": "c2db3b51-5dda-4a2f-8621-58b33d071c88",
   "metadata": {
    "tags": []
   },
   "outputs": [],
   "source": [
    "default_hist_bins_dict={\n",
    "    \"#Delta{R}\":[96,0,7],\n",
    "    \"#Delta{#eta}\":[80,-5,5],\n",
    "    \"#Delta{#phi}\":[52,-3.25,3.25],\n",
    "    \"#Delta{pT}\":[120, 0.0, 1500.0],\n",
    "    \"#Delta{#vec{pT}}\":[240, 0.0, 4800.0],\n",
    "    \"#Delta{#vec{p}}\":[240, 0.0, 4800.0],\n",
    "    \"MET(GeV)\":[80, 0.0, 1000.0],\n",
    "    \"pT_\": [160, 0.0, 2000.0],\n",
    "    \"sT(GeV)\": [200, 0.0, 4000.0],\n",
    "    \"mT(GeV)\": [200, 0.0, 4000.0],\n",
    "    \"#eta_\":[80, -5, 5],\n",
    "    \"#phi_\":[128, -3.2, 3.2],\n",
    "    \"Energy_\":[80, 0.0, 1000.0],\n",
    "    \"m_ll(GeV)\" : [100, 0, 1000.0]\n",
    "}"
   ]
  },
  {
   "cell_type": "code",
   "execution_count": 59,
   "id": "a15b7eb0-f3ca-41ec-b01d-c4037e746dd5",
   "metadata": {
    "tags": []
   },
   "outputs": [],
   "source": [
    "Histograms = {'total': {}, 'real': {}, 'virtual': {}, 'virtual + real': {},'(virtual + real)/total': {}, 'virtual/total': {}}\n",
    "\n",
    "Histo_Total = make_histograms(Kinematic_information['e_e_total_contribution'], hist_bins_dict = default_hist_bins_dict, integral = read_xs_from_html('e_e_total_contribution'))\n",
    "Histo_Virtual = make_histograms(Kinematic_information['e_e_virtual_contribution'], hist_bins_dict = default_hist_bins_dict, integral = read_xs_from_html('e_e_virtual_contribution'))\n",
    "Histo_Real = make_histograms(Kinematic_information['e_e_real_contribution'], hist_bins_dict = default_hist_bins_dict, integral = read_xs_from_html('e_e_real_contribution'))\n",
    "\n",
    "# Histograms['total'] = Histo_Total\n",
    "# Histograms['virtual'] = Histo_Virtual\n",
    "# Histograms['real'] = Histo_Real\n",
    "\n",
    "for key in Histo_Total.keys(): \n",
    "    \n",
    "    Histo_sum = sum_histos([Histo_Virtual[key], Histo_Real[key]])\n",
    "    \n",
    "    # Histograms['virtual + real'][key] = Histo_sum\n",
    "    # Histograms['(virtual + real)/total'][key] = Histo_sum/Histo_Total[key]\n",
    "    Histograms['virtual/total'][key] = Histo_Virtual[key]/Histo_Total[key]"
   ]
  },
  {
   "cell_type": "code",
   "execution_count": 37,
   "id": "6dce940f-5ec9-45ea-8c34-a22b920ff9ff",
   "metadata": {},
   "outputs": [
    {
     "data": {
      "image/png": "[encoded data removed]",
      "text/plain": [
       "<IPython.core.display.Image object>"
      ]
     },
     "metadata": {},
     "output_type": "display_data"
    }
   ],
   "source": [
    "histos, canvas, legend = overlap_histos(\"m_ll(GeV)\", dict_histos= Histograms, log_scale= True)"
   ]
  },
  {
   "cell_type": "code",
   "execution_count": 40,
   "id": "1cc602a9-5c9a-44e5-8c52-f2ac5b0d2972",
   "metadata": {},
   "outputs": [
    {
     "data": {
      "image/png": "[encoded data removed]",
      "text/plain": [
       "<IPython.core.display.Image object>"
      ]
     },
     "metadata": {},
     "output_type": "display_data"
    }
   ],
   "source": [
    "histos, canvas, legend = overlap_histos(\"m_ll(GeV)\", dict_histos= Histograms, log_scale= True, stack= True)"
   ]
  },
  {
   "cell_type": "code",
   "execution_count": 43,
   "id": "0e0034d6-5df7-485c-8c30-2c01b70a445d",
   "metadata": {},
   "outputs": [
    {
     "data": {
      "image/png": "[encoded data removed]",
      "text/plain": [
       "<IPython.core.display.Image object>"
      ]
     },
     "metadata": {},
     "output_type": "display_data"
    }
   ],
   "source": [
    "histos, canvas, legend = overlap_histos(\"m_ll(GeV)\", dict_histos= Histograms, log_scale= True)"
   ]
  },
  {
   "cell_type": "code",
   "execution_count": 58,
   "id": "aa1302bb-10ba-490b-936e-3fde1c1db231",
   "metadata": {},
   "outputs": [
    {
     "data": {
      "image/png": "[encoded data removed]",
      "text/plain": [
       "<IPython.core.display.Image object>"
      ]
     },
     "metadata": {},
     "output_type": "display_data"
    }
   ],
   "source": [
    "histos, canvas, legend = overlap_histos(\"m_ll(GeV)\", dict_histos= Histograms, log_scale= True)"
   ]
  },
  {
   "cell_type": "code",
   "execution_count": 60,
   "id": "16d0c7b2-6e4e-4081-8eb9-002bd86814ff",
   "metadata": {},
   "outputs": [
    {
     "data": {
      "image/png": "[encoded data removed]",
      "text/plain": [
       "<IPython.core.display.Image object>"
      ]
     },
     "metadata": {},
     "output_type": "display_data"
    }
   ],
   "source": [
    "histos, canvas, legend = overlap_histos(\"m_ll(GeV)\", dict_histos= Histograms, log_scale= True)"
   ]
  },
  {
   "cell_type": "code",
   "execution_count": null,
   "id": "8ab3b5f1-2631-40c4-9fcf-6c505baaef17",
   "metadata": {},
   "outputs": [],
   "source": []
  }
 ],
 "metadata": {
  "kernelspec": {
   "display_name": "Python 3 (ipykernel)",
   "language": "python",
   "name": "python3"
  },
  "language_info": {
   "codemirror_mode": {
    "name": "ipython",
    "version": 3
   },
   "file_extension": ".py",
   "mimetype": "text/x-python",
   "name": "python",
   "nbconvert_exporter": "python",
   "pygments_lexer": "ipython3",
   "version": "3.9.4"
  }
 },
 "nbformat": 4,
 "nbformat_minor": 5
}
