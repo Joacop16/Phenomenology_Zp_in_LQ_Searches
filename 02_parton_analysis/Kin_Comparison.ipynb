{
 "cells": [
  {
   "cell_type": "code",
   "execution_count": 1,
   "metadata": {},
   "outputs": [],
   "source": [
    "import os\n",
    "from itertools import product\n",
    "import pandas as pd\n",
    "import multiprocessing as mp"
   ]
  },
  {
   "cell_type": "code",
   "execution_count": 2,
   "metadata": {},
   "outputs": [
    {
     "name": "stderr",
     "output_type": "stream",
     "text": [
      "hint: Pulling without specifying how to reconcile divergent branches is\n",
      "hint: discouraged. You can squelch this message by running one of the following\n",
      "hint: commands sometime before your next pull:\n",
      "hint: \n",
      "hint:   git config pull.rebase false  # merge (the default strategy)\n",
      "hint:   git config pull.rebase true   # rebase\n",
      "hint:   git config pull.ff only       # fast-forward only\n",
      "hint: \n",
      "hint: You can replace \"git config\" with \"git config --global\" to set a default\n",
      "hint: preference for all repositories. You can also pass --rebase, --no-rebase,\n",
      "hint: or --ff-only on the command line to override the configured default per\n",
      "hint: invocation.\n"
     ]
    },
    {
     "name": "stdout",
     "output_type": "stream",
     "text": [
      "Already up to date.\n",
      "Welcome to JupyROOT 6.22/06\n"
     ]
    }
   ],
   "source": [
    "import subprocess\n",
    "\n",
    "## IMPORTANT: Make sure that \"Uniandes_Framework\" is in .gitignore\n",
    "framework_path = \"Uniandes_Framework\"\n",
    "\n",
    "if os.path.exists(framework_path):\n",
    "    # Pull updates if the framework is already cloned\n",
    "    try:\n",
    "        subprocess.run([\"git\", \"-C\", framework_path, \"pull\"])\n",
    "    except subprocess.CalledProcessError as e:\n",
    "        raise Exception(f\"Error occurred while pulling updates from the framework: {e}\")\n",
    "else:\n",
    "    # Clone the framework if it is not already cloned\n",
    "    try:\n",
    "        subprocess.run([\"git\", \"clone\", \"git@github.com:Phenomenology-group-uniandes/Uniandes_Framework.git\"])\n",
    "    except subprocess.CalledProcessError as e:\n",
    "        raise Exception(f\"Error occurred while cloning the framework: {e}\")\n",
    "from Uniandes_Framework.delphes_reader.lhereader import LHE_Loader, readLHEF, get_event_by_child\n",
    "from Uniandes_Framework.delphes_reader.root_analysis import get_kinematics_row, make_histograms, overlap_histos"
   ]
  },
  {
   "cell_type": "code",
   "execution_count": 3,
   "metadata": {},
   "outputs": [],
   "source": [
    "case = \"woRHC\"\n",
    "sim_path = os.path.join(os.path.dirname(os.path.dirname(os.path.dirname(os.getcwd()))), \"SIMULATIONS\", f\"lq_zp_{case}\")\n",
    "signals = [\"ta_ta\",\"zp_tau_tau\"]\n",
    "xs_path = { signal: os.path.join( os.path.dirname(os.getcwd()), \"01_signal_production\", f\"xs_signals_{case}\", signal, \"XS_Matrix.csv\") for signal in signals}\n",
    "                       \n",
    "M_U= [1000]\n",
    "G_U = [1.5]\n",
    "\n",
    "csv_sim_path = pd.read_csv(os.path.join(\"Uniandes_Framework\", \"SimulationsPaths.csv\"))\n",
    "df = pd.concat(\n",
    "    [csv_sim_path]\n",
    "    +\n",
    "    [ pd.DataFrame.from_dict(\n",
    "    {\n",
    "        \"name\" : signal + f\"_m{m}_g{g}\", \n",
    "        \"path\": os.path.join(sim_path, signal,f'M{m}_gU{g:.4f}'.replace('.', '_')),  \n",
    "        'xs(pb)': pd.read_csv(xs_path[signal], index_col = 0).loc[g,str(m)]\n",
    "    }, \n",
    "    orient = \"index\").T for signal, m , g in product(signals,M_U,G_U) ]\n",
    ")\n",
    "# save the new csv\n",
    "csv_sim_path = os.path.join(os.getcwd(), \"SimulationsPaths.csv\")\n",
    "df.to_csv(csv_sim_path, index = False)\n"
   ]
  },
  {
   "cell_type": "code",
   "execution_count": 4,
   "metadata": {},
   "outputs": [],
   "source": [
    "def get_kinematics(run):\n",
    "    run_name = os.path.basename(os.path.dirname(run))\n",
    "    childs=readLHEF(run)\n",
    "    if os.path.isfile(run):\n",
    "        print('Reading', run_name)\n",
    "    else:\n",
    "        pass\n",
    "    \n",
    "    results = list()\n",
    "    for child in childs:\n",
    "        event = get_event_by_child(child)\n",
    "        taus = event.getParticlesByIDs([-15,15])\n",
    "        if len(taus) == 2:\n",
    "            taus[0].SetName(\"#tau_{1}\")\n",
    "            taus[1].SetName(\"#tau_{2}\")\n",
    "            sum_taus = taus[0].TLV + taus[1].TLV\n",
    "        else :\n",
    "            continue\n",
    "        row = get_kinematics_row(taus)\n",
    "        row[\"m_ll\"] = sum_taus.M()\n",
    "        results.append(row)\n",
    "    print(run_name, 'done!')\n",
    "    return results\n"
   ]
  },
  {
   "cell_type": "code",
   "execution_count": 5,
   "metadata": {},
   "outputs": [],
   "source": [
    "# Load the simulation\n",
    "\n",
    "def load_simulation(x):\n",
    "    signal, m, g = x\n",
    "    lhe_loader = LHE_Loader(signal + f\"_m{m}_g{g}\", csv_sim_path)\n",
    "    results = list()\n",
    "    \n",
    "    n_cores = 3\n",
    "    with mp.Pool(n_cores) as pool:\n",
    "        for result in list(pool.map(get_kinematics, lhe_loader.Forest)):\n",
    "            results += result\n",
    "    return signal, pd.DataFrame.from_records(results)"
   ]
  },
  {
   "cell_type": "code",
   "execution_count": 6,
   "metadata": {
    "tags": []
   },
   "outputs": [
    {
     "name": "stdout",
     "output_type": "stream",
     "text": [
      "ta_ta_m1000_g1.5 imported with 16 trees!\n",
      "/home/Cristian/SIMULATIONS/lq_zp_woRHC/ta_ta/M1000_gU1_5000\n",
      "Reading run_03\n",
      "Reading run_05\n",
      "Reading run_01\n",
      "run_03 done!\n",
      "run_01 done!\n",
      "run_05 done!\n",
      "Reading run_04\n",
      "Reading run_06\n",
      "Reading run_02\n",
      "run_04 done!\n",
      "run_06 done!\n",
      "run_02 done!\n",
      "Reading run_07\n",
      "Reading run_09\n",
      "run_07 done!\n",
      "Reading run_11\n",
      "run_09 done!\n",
      "run_11 done!\n",
      "Reading run_08\n",
      "run_08 done!\n",
      "Reading run_12\n",
      "Reading run_10\n",
      "run_12 done!\n",
      "run_10 done!\n",
      "Reading run_13\n",
      "run_13 done!\n",
      "Reading run_15\n",
      "run_15 done!\n",
      "Reading run_14\n",
      "run_14 done!\n",
      "Reading run_16\n",
      "run_16 done!\n",
      "zp_tau_tau_m1000_g1.5 imported with 16 trees!\n",
      "/home/Cristian/SIMULATIONS/lq_zp_woRHC/zp_tau_tau/M1000_gU1_5000\n",
      "Reading run_03\n",
      "Reading run_05\n",
      "run_03 done!\n",
      "run_05 done!\n",
      "Reading run_01\n",
      "run_01 done!\n",
      "Reading run_06\n",
      "Reading run_04\n",
      "run_06 done!\n",
      "run_04 done!\n",
      "Reading run_02\n",
      "run_02 done!\n",
      "Reading run_09\n",
      "Reading run_07\n",
      "run_09 done!\n",
      "run_07 done!\n",
      "Reading run_11\n",
      "run_11 done!\n",
      "Reading Readingrun_10 \n",
      "run_08\n",
      "run_08 done!\n",
      "run_10 done!\n",
      "Reading run_12\n",
      "run_12 done!\n",
      "Reading run_13\n",
      "Reading run_15\n",
      "run_13 done!\n",
      "run_15 done!\n",
      "Reading run_14\n",
      "Reading run_16\n",
      "run_14 done!\n",
      "run_16 done!\n"
     ]
    }
   ],
   "source": [
    "a = dict(map(load_simulation, product(signals,M_U,G_U)))"
   ]
  },
  {
   "cell_type": "code",
   "execution_count": 7,
   "metadata": {
    "tags": []
   },
   "outputs": [
    {
     "data": {
      "text/html": [
       "<div>\n",
       "<style scoped>\n",
       "    .dataframe tbody tr th:only-of-type {\n",
       "        vertical-align: middle;\n",
       "    }\n",
       "\n",
       "    .dataframe tbody tr th {\n",
       "        vertical-align: top;\n",
       "    }\n",
       "\n",
       "    .dataframe thead th {\n",
       "        text-align: right;\n",
       "    }\n",
       "</style>\n",
       "<table border=\"1\" class=\"dataframe\">\n",
       "  <thead>\n",
       "    <tr style=\"text-align: right;\">\n",
       "      <th></th>\n",
       "      <th>pT_{#tau_{1}}(GeV)</th>\n",
       "      <th>#eta_{#tau_{1}}</th>\n",
       "      <th>#phi_{#tau_{1}}</th>\n",
       "      <th>Energy_{#tau_{1}}(GeV)</th>\n",
       "      <th>Mass_{#tau_{1}}(GeV))</th>\n",
       "      <th>#Delta{R}_{#tau_{1}#tau_{2}}</th>\n",
       "      <th>#Delta{#eta}_{#tau_{1}#tau_{2}}</th>\n",
       "      <th>#Delta{#phi}_{#tau_{1}#tau_{2}}</th>\n",
       "      <th>#Delta{pT}_{#tau_{1}#tau_{2}}(GeV)</th>\n",
       "      <th>#Delta{#vec{pT}}_{#tau_{1}#tau_{2}}(GeV)</th>\n",
       "      <th>#Delta{#vec{p}}_{#tau_{1}#tau_{2}}(GeV)</th>\n",
       "      <th>pT_{#tau_{2}}(GeV)</th>\n",
       "      <th>#eta_{#tau_{2}}</th>\n",
       "      <th>#phi_{#tau_{2}}</th>\n",
       "      <th>Energy_{#tau_{2}}(GeV)</th>\n",
       "      <th>Mass_{#tau_{2}}(GeV))</th>\n",
       "      <th>m_ll</th>\n",
       "    </tr>\n",
       "  </thead>\n",
       "  <tbody>\n",
       "    <tr>\n",
       "      <th>0</th>\n",
       "      <td>258.956457</td>\n",
       "      <td>-1.093665</td>\n",
       "      <td>-0.738732</td>\n",
       "      <td>429.891358</td>\n",
       "      <td>-0.001815</td>\n",
       "      <td>3.548919</td>\n",
       "      <td>-1.650823</td>\n",
       "      <td>3.141593</td>\n",
       "      <td>0.0</td>\n",
       "      <td>517.912913</td>\n",
       "      <td>716.424641</td>\n",
       "      <td>258.956457</td>\n",
       "      <td>0.557158</td>\n",
       "      <td>2.402861</td>\n",
       "      <td>300.200312</td>\n",
       "      <td>0.001250</td>\n",
       "      <td>704.588177</td>\n",
       "    </tr>\n",
       "    <tr>\n",
       "      <th>1</th>\n",
       "      <td>208.904252</td>\n",
       "      <td>-1.055639</td>\n",
       "      <td>-0.693715</td>\n",
       "      <td>336.521769</td>\n",
       "      <td>0.001394</td>\n",
       "      <td>3.875976</td>\n",
       "      <td>-2.270151</td>\n",
       "      <td>3.141593</td>\n",
       "      <td>0.0</td>\n",
       "      <td>417.808503</td>\n",
       "      <td>718.623987</td>\n",
       "      <td>208.904252</td>\n",
       "      <td>1.214512</td>\n",
       "      <td>2.447878</td>\n",
       "      <td>382.869841</td>\n",
       "      <td>-0.001679</td>\n",
       "      <td>717.127806</td>\n",
       "    </tr>\n",
       "    <tr>\n",
       "      <th>2</th>\n",
       "      <td>135.451832</td>\n",
       "      <td>-1.093522</td>\n",
       "      <td>0.349847</td>\n",
       "      <td>224.836680</td>\n",
       "      <td>-0.001857</td>\n",
       "      <td>4.524371</td>\n",
       "      <td>-3.255815</td>\n",
       "      <td>3.141593</td>\n",
       "      <td>0.0</td>\n",
       "      <td>270.903664</td>\n",
       "      <td>807.094960</td>\n",
       "      <td>135.451832</td>\n",
       "      <td>2.162293</td>\n",
       "      <td>-2.791746</td>\n",
       "      <td>596.401537</td>\n",
       "      <td>-0.000892</td>\n",
       "      <td>716.478773</td>\n",
       "    </tr>\n",
       "    <tr>\n",
       "      <th>3</th>\n",
       "      <td>175.702365</td>\n",
       "      <td>-0.665163</td>\n",
       "      <td>0.116811</td>\n",
       "      <td>216.025769</td>\n",
       "      <td>-0.000359</td>\n",
       "      <td>4.162204</td>\n",
       "      <td>-2.730263</td>\n",
       "      <td>3.141593</td>\n",
       "      <td>0.0</td>\n",
       "      <td>351.404730</td>\n",
       "      <td>880.504979</td>\n",
       "      <td>175.702365</td>\n",
       "      <td>2.065100</td>\n",
       "      <td>-3.024782</td>\n",
       "      <td>703.942275</td>\n",
       "      <td>-0.002298</td>\n",
       "      <td>732.957366</td>\n",
       "    </tr>\n",
       "    <tr>\n",
       "      <th>4</th>\n",
       "      <td>371.963487</td>\n",
       "      <td>-1.025058</td>\n",
       "      <td>-1.651816</td>\n",
       "      <td>585.104593</td>\n",
       "      <td>0.000667</td>\n",
       "      <td>3.143252</td>\n",
       "      <td>-0.102133</td>\n",
       "      <td>3.141593</td>\n",
       "      <td>0.0</td>\n",
       "      <td>743.926974</td>\n",
       "      <td>746.146186</td>\n",
       "      <td>371.963487</td>\n",
       "      <td>-0.922925</td>\n",
       "      <td>1.489777</td>\n",
       "      <td>541.950035</td>\n",
       "      <td>-0.002218</td>\n",
       "      <td>744.897184</td>\n",
       "    </tr>\n",
       "  </tbody>\n",
       "</table>\n",
       "</div>"
      ],
      "text/plain": [
       "   pT_{#tau_{1}}(GeV)  #eta_{#tau_{1}}  #phi_{#tau_{1}}   \n",
       "0          258.956457        -1.093665        -0.738732  \\\n",
       "1          208.904252        -1.055639        -0.693715   \n",
       "2          135.451832        -1.093522         0.349847   \n",
       "3          175.702365        -0.665163         0.116811   \n",
       "4          371.963487        -1.025058        -1.651816   \n",
       "\n",
       "   Energy_{#tau_{1}}(GeV)  Mass_{#tau_{1}}(GeV))   \n",
       "0              429.891358              -0.001815  \\\n",
       "1              336.521769               0.001394   \n",
       "2              224.836680              -0.001857   \n",
       "3              216.025769              -0.000359   \n",
       "4              585.104593               0.000667   \n",
       "\n",
       "   #Delta{R}_{#tau_{1}#tau_{2}}  #Delta{#eta}_{#tau_{1}#tau_{2}}   \n",
       "0                      3.548919                        -1.650823  \\\n",
       "1                      3.875976                        -2.270151   \n",
       "2                      4.524371                        -3.255815   \n",
       "3                      4.162204                        -2.730263   \n",
       "4                      3.143252                        -0.102133   \n",
       "\n",
       "   #Delta{#phi}_{#tau_{1}#tau_{2}}  #Delta{pT}_{#tau_{1}#tau_{2}}(GeV)   \n",
       "0                         3.141593                                 0.0  \\\n",
       "1                         3.141593                                 0.0   \n",
       "2                         3.141593                                 0.0   \n",
       "3                         3.141593                                 0.0   \n",
       "4                         3.141593                                 0.0   \n",
       "\n",
       "   #Delta{#vec{pT}}_{#tau_{1}#tau_{2}}(GeV)   \n",
       "0                                517.912913  \\\n",
       "1                                417.808503   \n",
       "2                                270.903664   \n",
       "3                                351.404730   \n",
       "4                                743.926974   \n",
       "\n",
       "   #Delta{#vec{p}}_{#tau_{1}#tau_{2}}(GeV)  pT_{#tau_{2}}(GeV)   \n",
       "0                               716.424641          258.956457  \\\n",
       "1                               718.623987          208.904252   \n",
       "2                               807.094960          135.451832   \n",
       "3                               880.504979          175.702365   \n",
       "4                               746.146186          371.963487   \n",
       "\n",
       "   #eta_{#tau_{2}}  #phi_{#tau_{2}}  Energy_{#tau_{2}}(GeV)   \n",
       "0         0.557158         2.402861              300.200312  \\\n",
       "1         1.214512         2.447878              382.869841   \n",
       "2         2.162293        -2.791746              596.401537   \n",
       "3         2.065100        -3.024782              703.942275   \n",
       "4        -0.922925         1.489777              541.950035   \n",
       "\n",
       "   Mass_{#tau_{2}}(GeV))        m_ll  \n",
       "0               0.001250  704.588177  \n",
       "1              -0.001679  717.127806  \n",
       "2              -0.000892  716.478773  \n",
       "3              -0.002298  732.957366  \n",
       "4              -0.002218  744.897184  "
      ]
     },
     "execution_count": 7,
     "metadata": {},
     "output_type": "execute_result"
    }
   ],
   "source": [
    "a['ta_ta'].head()"
   ]
  },
  {
   "cell_type": "code",
   "execution_count": 8,
   "metadata": {
    "tags": []
   },
   "outputs": [],
   "source": [
    "default_hist_bins_dict={\n",
    "    \"#Delta{R}\":[96,0,7],\n",
    "    \"#Delta{#eta}\":[80,-5,5],\n",
    "    \"#Delta{#phi}\":[52,-3.25,3.25],\n",
    "    \"#Delta{pT}\":[120, 0.0, 1500.0],\n",
    "    \"#Delta{#vec{pT}}\":[240, 0.0, 4800.0],\n",
    "    \"#Delta{#vec{p}}\":[240, 0.0, 4800.0],\n",
    "    \"MET(GeV)\":[80, 0.0, 1000.0],\n",
    "    \"pT_\": [160, 0.0, 2000.0],\n",
    "    \"sT(GeV)\": [200, 0.0, 4000.0],\n",
    "    \"mT(GeV)\": [200, 0.0, 4000.0],\n",
    "    \"#eta_\":[80, -5, 5],\n",
    "    \"#phi_\":[128, -3.2, 3.2],\n",
    "    \"Energy_\":[80, 0.0, 1000.0],\n",
    "    \"m_ll\" : [160, 0.0, 2000.0]\n",
    "}\n",
    "root_histos ={ signal: make_histograms(a[signal],hist_bins_dict = default_hist_bins_dict) for signal in signals}"
   ]
  },
  {
   "cell_type": "code",
   "execution_count": 9,
   "metadata": {
    "tags": []
   },
   "outputs": [
    {
     "data": {
      "text/plain": [
       "{'ta_ta': {'pT_{#tau_{1}}(GeV)': <cppyy.gbl.TH1F object at 0x559baf3f6530>,\n",
       "  '#eta_{#tau_{1}}': <cppyy.gbl.TH1F object at 0x559baf398000>,\n",
       "  '#phi_{#tau_{1}}': <cppyy.gbl.TH1F object at 0x559baf3e98f0>,\n",
       "  'Energy_{#tau_{1}}(GeV)': <cppyy.gbl.TH1F object at 0x559baf3725a0>,\n",
       "  '#Delta{R}_{#tau_{1}#tau_{2}}': <cppyy.gbl.TH1F object at 0x559baee86630>,\n",
       "  '#Delta{#eta}_{#tau_{1}#tau_{2}}': <cppyy.gbl.TH1F object at 0x559baf392a60>,\n",
       "  '#Delta{#phi}_{#tau_{1}#tau_{2}}': <cppyy.gbl.TH1F object at 0x559baf3aaf40>,\n",
       "  '#Delta{pT}_{#tau_{1}#tau_{2}}(GeV)': <cppyy.gbl.TH1F object at 0x559baf3ecaf0>,\n",
       "  '#Delta{#vec{pT}}_{#tau_{1}#tau_{2}}(GeV)': <cppyy.gbl.TH1F object at 0x559baf3b2550>,\n",
       "  '#Delta{#vec{p}}_{#tau_{1}#tau_{2}}(GeV)': <cppyy.gbl.TH1F object at 0x559baf3f78a0>,\n",
       "  'pT_{#tau_{2}}(GeV)': <cppyy.gbl.TH1F object at 0x559baf3b6620>,\n",
       "  '#eta_{#tau_{2}}': <cppyy.gbl.TH1F object at 0x559baf3a4640>,\n",
       "  '#phi_{#tau_{2}}': <cppyy.gbl.TH1F object at 0x559baf405fc0>,\n",
       "  'Energy_{#tau_{2}}(GeV)': <cppyy.gbl.TH1F object at 0x559baf380850>,\n",
       "  'm_ll': <cppyy.gbl.TH1F object at 0x559baf3abaa0>},\n",
       " 'zp_tau_tau': {'pT_{#tau_{1}}(GeV)': <cppyy.gbl.TH1F object at 0x559bad882070>,\n",
       "  '#eta_{#tau_{1}}': <cppyy.gbl.TH1F object at 0x559baf3ea490>,\n",
       "  '#phi_{#tau_{1}}': <cppyy.gbl.TH1F object at 0x559baf3ed7c0>,\n",
       "  'Energy_{#tau_{1}}(GeV)': <cppyy.gbl.TH1F object at 0x559baf3b7480>,\n",
       "  '#Delta{R}_{#tau_{1}#tau_{2}}': <cppyy.gbl.TH1F object at 0x559bacfedd00>,\n",
       "  '#Delta{#eta}_{#tau_{1}#tau_{2}}': <cppyy.gbl.TH1F object at 0x559bacfee1e0>,\n",
       "  '#Delta{#phi}_{#tau_{1}#tau_{2}}': <cppyy.gbl.TH1F object at 0x559baf3ff5e0>,\n",
       "  '#Delta{pT}_{#tau_{1}#tau_{2}}(GeV)': <cppyy.gbl.TH1F object at 0x559baf3ffac0>,\n",
       "  '#Delta{#vec{pT}}_{#tau_{1}#tau_{2}}(GeV)': <cppyy.gbl.TH1F object at 0x559baf3a3350>,\n",
       "  '#Delta{#vec{p}}_{#tau_{1}#tau_{2}}(GeV)': <cppyy.gbl.TH1F object at 0x559baf3f30d0>,\n",
       "  'pT_{#tau_{2}}(GeV)': <cppyy.gbl.TH1F object at 0x559baf3f3980>,\n",
       "  '#eta_{#tau_{2}}': <cppyy.gbl.TH1F object at 0x559baf3b47a0>,\n",
       "  '#phi_{#tau_{2}}': <cppyy.gbl.TH1F object at 0x559baf3b4cb0>,\n",
       "  'Energy_{#tau_{2}}(GeV)': <cppyy.gbl.TH1F object at 0x559baf3e7620>,\n",
       "  'm_ll': <cppyy.gbl.TH1F object at 0x559baf3e7e20>}}"
      ]
     },
     "execution_count": 9,
     "metadata": {},
     "output_type": "execute_result"
    }
   ],
   "source": [
    "root_histos"
   ]
  },
  {
   "cell_type": "code",
   "execution_count": 10,
   "metadata": {
    "tags": []
   },
   "outputs": [
    {
     "data": {
      "image/png": "[encoded data removed]",
      "text/plain": [
       "<IPython.core.display.Image object>"
      ]
     },
     "metadata": {},
     "output_type": "display_data"
    }
   ],
   "source": [
    "histos, canvas, legend = overlap_histos( 'pT_{#tau_{1}}(GeV)', root_histos, log_scale =True)"
   ]
  },
  {
   "cell_type": "code",
   "execution_count": 11,
   "metadata": {
    "tags": []
   },
   "outputs": [
    {
     "data": {
      "image/png": "[encoded data removed]",
      "text/plain": [
       "<IPython.core.display.Image object>"
      ]
     },
     "metadata": {},
     "output_type": "display_data"
    }
   ],
   "source": [
    "histos, canvas, legend = overlap_histos( 'pT_{#tau_{2}}(GeV)', root_histos, log_scale =True)"
   ]
  },
  {
   "cell_type": "code",
   "execution_count": 12,
   "metadata": {
    "tags": []
   },
   "outputs": [
    {
     "data": {
      "image/png": "[encoded data removed]",
      "text/plain": [
       "<IPython.core.display.Image object>"
      ]
     },
     "metadata": {},
     "output_type": "display_data"
    }
   ],
   "source": [
    "histos, canvas, legend = overlap_histos('#Delta{R}_{#tau_{1}#tau_{2}}', root_histos, log_scale =True)"
   ]
  },
  {
   "cell_type": "code",
   "execution_count": 14,
   "metadata": {
    "tags": []
   },
   "outputs": [
    {
     "name": "stderr",
     "output_type": "stream",
     "text": [
      "Info in <TCanvas::Print>: pdf file mll.pdf has been created\n"
     ]
    },
    {
     "data": {
      "image/png": "[encoded data removed]",
      "text/plain": [
       "<IPython.core.display.Image object>"
      ]
     },
     "metadata": {},
     "output_type": "display_data"
    }
   ],
   "source": [
    "histos, canvas, legend = overlap_histos('m_ll', root_histos, log_scale =True)\n",
    "canvas.SaveAs(\"mll.pdf\")"
   ]
  },
  {
   "cell_type": "code",
   "execution_count": null,
   "metadata": {},
   "outputs": [],
   "source": []
  }
 ],
 "metadata": {
  "kernelspec": {
   "display_name": "Python 3 (ipykernel)",
   "language": "python",
   "name": "python3"
  },
  "language_info": {
   "codemirror_mode": {
    "name": "ipython",
    "version": 3
   },
   "file_extension": ".py",
   "mimetype": "text/x-python",
   "name": "python",
   "nbconvert_exporter": "python",
   "pygments_lexer": "ipython3",
   "version": "3.9.4"
  }
 },
 "nbformat": 4,
 "nbformat_minor": 4
}
