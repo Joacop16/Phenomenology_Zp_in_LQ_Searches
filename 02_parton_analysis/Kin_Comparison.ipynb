{
 "cells": [
  {
   "cell_type": "code",
   "execution_count": 1,
   "metadata": {},
   "outputs": [],
   "source": [
    "import os\n",
    "from itertools import product\n",
    "import pandas as pd\n",
    "import multiprocessing as mp"
   ]
  },
  {
   "cell_type": "code",
   "execution_count": 2,
   "metadata": {},
   "outputs": [
    {
     "name": "stderr",
     "output_type": "stream",
     "text": [
      "hint: Pulling without specifying how to reconcile divergent branches is\n",
      "hint: discouraged. You can squelch this message by running one of the following\n",
      "hint: commands sometime before your next pull:\n",
      "hint: \n",
      "hint:   git config pull.rebase false  # merge (the default strategy)\n",
      "hint:   git config pull.rebase true   # rebase\n",
      "hint:   git config pull.ff only       # fast-forward only\n",
      "hint: \n",
      "hint: You can replace \"git config\" with \"git config --global\" to set a default\n",
      "hint: preference for all repositories. You can also pass --rebase, --no-rebase,\n",
      "hint: or --ff-only on the command line to override the configured default per\n",
      "hint: invocation.\n"
     ]
    },
    {
     "name": "stdout",
     "output_type": "stream",
     "text": [
      "Already up to date.\n",
      "Welcome to JupyROOT 6.22/06\n"
     ]
    }
   ],
   "source": [
    "import subprocess\n",
    "\n",
    "## IMPORTANT: Make sure that \"Uniandes_Framework\" is in .gitignore\n",
    "framework_path = \"Uniandes_Framework\"\n",
    "\n",
    "if os.path.exists(framework_path):\n",
    "    # Pull updates if the framework is already cloned\n",
    "    try:\n",
    "        subprocess.run([\"git\", \"-C\", framework_path, \"pull\"])\n",
    "    except subprocess.CalledProcessError as e:\n",
    "        raise Exception(f\"Error occurred while pulling updates from the framework: {e}\")\n",
    "else:\n",
    "    # Clone the framework if it is not already cloned\n",
    "    try:\n",
    "        subprocess.run([\"git\", \"clone\", \"git@github.com:Phenomenology-group-uniandes/Uniandes_Framework.git\"])\n",
    "    except subprocess.CalledProcessError as e:\n",
    "        raise Exception(f\"Error occurred while cloning the framework: {e}\")\n",
    "   \n",
    "from Uniandes_Framework.delphes_reader.lhereader import LHE_Loader, readLHEF, get_event_by_child\n",
    "from Uniandes_Framework.delphes_reader.root_analysis import get_kinematics_row, make_histograms, overlap_histos"
   ]
  },
  {
   "cell_type": "code",
   "execution_count": 3,
   "metadata": {},
   "outputs": [],
   "source": [
    "case = \"woRHC\"\n",
    "sim_path = os.path.join(os.path.dirname(os.path.dirname(os.path.dirname(os.getcwd()))), \"SIMULATIONS\", f\"lq_zp_{case}\")\n",
    "signals = [\"ta_ta\",\"zp_tau_tau\"]\n",
    "xs_path = { signal: os.path.join( os.path.dirname(os.getcwd()), \"01_signal_production\", f\"xs_signals_{case}\", signal, \"XS_Matrix.csv\") for signal in signals}\n",
    "                       \n",
    "M_U= [1000]\n",
    "G_U = [1.5]\n",
    "\n",
    "csv_sim_path = pd.read_csv(os.path.join(\"Uniandes_Framework\", \"SimulationsPaths.csv\"))\n",
    "df = pd.concat(\n",
    "    [csv_sim_path]\n",
    "    +\n",
    "    [ pd.DataFrame.from_dict(\n",
    "    {\n",
    "        \"name\" : signal + f\"_m{m}_g{g}\", \n",
    "        \"path\": os.path.join(sim_path, signal,f'M{m}_gU{g:.4f}'.replace('.', '_')),  \n",
    "        'xs(pb)': pd.read_csv(xs_path[signal], index_col = 0).loc[g,str(m)]\n",
    "    }, \n",
    "    orient = \"index\").T for signal, m , g in product(signals,M_U,G_U) ]\n",
    ")\n",
    "# save the new csv\n",
    "csv_sim_path = os.path.join(os.getcwd(), \"SimulationsPaths.csv\")\n",
    "df.to_csv(csv_sim_path, index = False)\n"
   ]
  },
  {
   "cell_type": "code",
   "execution_count": 4,
   "metadata": {},
   "outputs": [],
   "source": [
    "def get_kinematics(run):\n",
    "    run_name = os.path.basename(os.path.dirname(run))\n",
    "    childs=readLHEF(run)\n",
    "    if os.path.isfile(run):\n",
    "        print('Reading', run_name)\n",
    "    else:\n",
    "        pass\n",
    "    \n",
    "    results = list()\n",
    "    for child in childs:\n",
    "        event = get_event_by_child(child)\n",
    "        taus = event.getParticlesByIDs([-15,15])\n",
    "        if len(taus) == 2:\n",
    "            taus[0].SetName(\"#tau_{1}\")\n",
    "            taus[1].SetName(\"#tau_{2}\")\n",
    "        else :\n",
    "            continue\n",
    "        results.append(get_kinematics_row(taus))\n",
    "    print(run_name, 'done!')\n",
    "    return results\n"
   ]
  },
  {
   "cell_type": "code",
   "execution_count": 5,
   "metadata": {},
   "outputs": [],
   "source": [
    "# Load the simulation\n",
    "\n",
    "def load_simulation(x):\n",
    "    signal, m, g = x\n",
    "    lhe_loader = LHE_Loader(signal + f\"_m{m}_g{g}\", csv_sim_path)\n",
    "    results = list()\n",
    "    \n",
    "    n_cores = 3\n",
    "    with mp.Pool(n_cores) as pool:\n",
    "        for result in list(pool.map(get_kinematics, lhe_loader.Forest)):\n",
    "            results += result\n",
    "    return signal, pd.DataFrame.from_records(results)"
   ]
  },
  {
   "cell_type": "code",
   "execution_count": 6,
   "metadata": {
    "tags": []
   },
   "outputs": [
    {
     "name": "stdout",
     "output_type": "stream",
     "text": [
      "ta_ta_m1000_g1.5 imported with 12 trees!\n",
      "/home/Cristian/SIMULATIONS/lq_zp_woRHC/ta_ta/M1000_gU1_5000\n",
      "Reading run_03\n",
      "Reading run_02\n",
      "Reading run_01\n",
      "run_03 done!\n",
      "run_02 done!\n",
      "run_01 done!\n",
      "Reading run_05\n",
      "Reading run_04\n",
      "run_05 done!\n",
      "Reading run_06\n",
      "run_04 done!\n",
      "run_06 done!\n",
      "Reading run_07\n",
      "Reading run_08\n",
      "run_07 done!\n",
      "Reading run_09\n",
      "run_08 done!\n",
      "run_09 done!\n",
      "Reading run_10\n",
      "Reading run_11\n",
      "Reading run_12\n",
      "run_10 done!\n",
      "run_11 done!\n",
      "run_12 done!\n",
      "zp_tau_tau_m1000_g1.5 imported with 12 trees!\n",
      "/home/Cristian/SIMULATIONS/lq_zp_woRHC/zp_tau_tau/M1000_gU1_5000\n",
      "Reading run_02\n",
      "Reading run_01\n",
      "Reading run_03\n",
      "run_02 done!\n",
      "run_01 done!\n",
      "run_03 done!\n",
      "Reading run_04\n",
      "Reading run_05\n",
      "Reading run_06\n",
      "run_04 done!\n",
      "run_05 done!\n",
      "run_06 done!\n",
      "Reading run_07\n",
      "run_07 done!\n",
      "Reading run_08\n",
      "run_08 done!\n",
      "Reading run_09\n",
      "run_09 done!\n",
      "Reading run_10\n",
      "run_10 done!\n",
      "Reading run_11\n",
      "run_11 done!\n",
      "Reading run_12\n",
      "run_12 done!\n"
     ]
    }
   ],
   "source": [
    "a = dict(map(load_simulation, product(signals,M_U,G_U)))"
   ]
  },
  {
   "cell_type": "code",
   "execution_count": 13,
   "metadata": {
    "tags": []
   },
   "outputs": [
    {
     "data": {
      "text/html": [
       "<div>\n",
       "<style scoped>\n",
       "    .dataframe tbody tr th:only-of-type {\n",
       "        vertical-align: middle;\n",
       "    }\n",
       "\n",
       "    .dataframe tbody tr th {\n",
       "        vertical-align: top;\n",
       "    }\n",
       "\n",
       "    .dataframe thead th {\n",
       "        text-align: right;\n",
       "    }\n",
       "</style>\n",
       "<table border=\"1\" class=\"dataframe\">\n",
       "  <thead>\n",
       "    <tr style=\"text-align: right;\">\n",
       "      <th></th>\n",
       "      <th>pT_{#tau_{1}}(GeV)</th>\n",
       "      <th>#eta_{#tau_{1}}</th>\n",
       "      <th>#phi_{#tau_{1}}</th>\n",
       "      <th>Energy_{#tau_{1}}(GeV)</th>\n",
       "      <th>Mass_{#tau_{1}}(GeV))</th>\n",
       "      <th>#Delta{R}_{#tau_{1}#tau_{2}}</th>\n",
       "      <th>#Delta{#eta}_{#tau_{1}#tau_{2}}</th>\n",
       "      <th>#Delta{#phi}_{#tau_{1}#tau_{2}}</th>\n",
       "      <th>#Delta{pT}_{#tau_{1}#tau_{2}}(GeV)</th>\n",
       "      <th>#Delta{#vec{pT}}_{#tau_{1}#tau_{2}}(GeV)</th>\n",
       "      <th>#Delta{#vec{p}}_{#tau_{1}#tau_{2}}(GeV)</th>\n",
       "      <th>pT_{#tau_{2}}(GeV)</th>\n",
       "      <th>#eta_{#tau_{2}}</th>\n",
       "      <th>#phi_{#tau_{2}}</th>\n",
       "      <th>Energy_{#tau_{2}}(GeV)</th>\n",
       "      <th>Mass_{#tau_{2}}(GeV))</th>\n",
       "    </tr>\n",
       "  </thead>\n",
       "  <tbody>\n",
       "    <tr>\n",
       "      <th>0</th>\n",
       "      <td>39.378457</td>\n",
       "      <td>1.121557</td>\n",
       "      <td>-2.843818</td>\n",
       "      <td>66.852843</td>\n",
       "      <td>-0.000117</td>\n",
       "      <td>3.317725</td>\n",
       "      <td>1.066626</td>\n",
       "      <td>3.141593</td>\n",
       "      <td>0.0</td>\n",
       "      <td>78.756913</td>\n",
       "      <td>94.298140</td>\n",
       "      <td>39.378457</td>\n",
       "      <td>0.054930</td>\n",
       "      <td>0.297775</td>\n",
       "      <td>39.437881</td>\n",
       "      <td>-0.000113</td>\n",
       "    </tr>\n",
       "    <tr>\n",
       "      <th>1</th>\n",
       "      <td>81.171911</td>\n",
       "      <td>-2.366061</td>\n",
       "      <td>0.293627</td>\n",
       "      <td>436.265931</td>\n",
       "      <td>0.001276</td>\n",
       "      <td>3.698799</td>\n",
       "      <td>-1.952310</td>\n",
       "      <td>3.141593</td>\n",
       "      <td>0.0</td>\n",
       "      <td>162.343822</td>\n",
       "      <td>426.224810</td>\n",
       "      <td>81.171911</td>\n",
       "      <td>-0.413751</td>\n",
       "      <td>-2.847966</td>\n",
       "      <td>88.219507</td>\n",
       "      <td>0.000249</td>\n",
       "    </tr>\n",
       "    <tr>\n",
       "      <th>2</th>\n",
       "      <td>80.503619</td>\n",
       "      <td>0.920527</td>\n",
       "      <td>1.654172</td>\n",
       "      <td>117.089376</td>\n",
       "      <td>-0.000350</td>\n",
       "      <td>3.290347</td>\n",
       "      <td>-0.978149</td>\n",
       "      <td>3.141593</td>\n",
       "      <td>0.0</td>\n",
       "      <td>161.007237</td>\n",
       "      <td>239.800953</td>\n",
       "      <td>80.503619</td>\n",
       "      <td>1.898676</td>\n",
       "      <td>-1.487421</td>\n",
       "      <td>274.791724</td>\n",
       "      <td>-0.001676</td>\n",
       "    </tr>\n",
       "    <tr>\n",
       "      <th>3</th>\n",
       "      <td>154.868804</td>\n",
       "      <td>1.327372</td>\n",
       "      <td>1.113473</td>\n",
       "      <td>312.548023</td>\n",
       "      <td>0.001734</td>\n",
       "      <td>3.334072</td>\n",
       "      <td>1.116436</td>\n",
       "      <td>3.141593</td>\n",
       "      <td>0.0</td>\n",
       "      <td>309.737608</td>\n",
       "      <td>390.964653</td>\n",
       "      <td>154.868804</td>\n",
       "      <td>0.210937</td>\n",
       "      <td>-2.028119</td>\n",
       "      <td>158.326983</td>\n",
       "      <td>-0.000404</td>\n",
       "    </tr>\n",
       "    <tr>\n",
       "      <th>4</th>\n",
       "      <td>51.064710</td>\n",
       "      <td>-0.695411</td>\n",
       "      <td>-0.378432</td>\n",
       "      <td>63.917733</td>\n",
       "      <td>-0.000152</td>\n",
       "      <td>3.275737</td>\n",
       "      <td>-0.927819</td>\n",
       "      <td>3.141593</td>\n",
       "      <td>0.0</td>\n",
       "      <td>102.129419</td>\n",
       "      <td>113.896459</td>\n",
       "      <td>51.064710</td>\n",
       "      <td>0.232409</td>\n",
       "      <td>2.763161</td>\n",
       "      <td>52.450026</td>\n",
       "      <td>0.000156</td>\n",
       "    </tr>\n",
       "  </tbody>\n",
       "</table>\n",
       "</div>"
      ],
      "text/plain": [
       "   pT_{#tau_{1}}(GeV)  #eta_{#tau_{1}}  #phi_{#tau_{1}}   \n",
       "0           39.378457         1.121557        -2.843818  \\\n",
       "1           81.171911        -2.366061         0.293627   \n",
       "2           80.503619         0.920527         1.654172   \n",
       "3          154.868804         1.327372         1.113473   \n",
       "4           51.064710        -0.695411        -0.378432   \n",
       "\n",
       "   Energy_{#tau_{1}}(GeV)  Mass_{#tau_{1}}(GeV))   \n",
       "0               66.852843              -0.000117  \\\n",
       "1              436.265931               0.001276   \n",
       "2              117.089376              -0.000350   \n",
       "3              312.548023               0.001734   \n",
       "4               63.917733              -0.000152   \n",
       "\n",
       "   #Delta{R}_{#tau_{1}#tau_{2}}  #Delta{#eta}_{#tau_{1}#tau_{2}}   \n",
       "0                      3.317725                         1.066626  \\\n",
       "1                      3.698799                        -1.952310   \n",
       "2                      3.290347                        -0.978149   \n",
       "3                      3.334072                         1.116436   \n",
       "4                      3.275737                        -0.927819   \n",
       "\n",
       "   #Delta{#phi}_{#tau_{1}#tau_{2}}  #Delta{pT}_{#tau_{1}#tau_{2}}(GeV)   \n",
       "0                         3.141593                                 0.0  \\\n",
       "1                         3.141593                                 0.0   \n",
       "2                         3.141593                                 0.0   \n",
       "3                         3.141593                                 0.0   \n",
       "4                         3.141593                                 0.0   \n",
       "\n",
       "   #Delta{#vec{pT}}_{#tau_{1}#tau_{2}}(GeV)   \n",
       "0                                 78.756913  \\\n",
       "1                                162.343822   \n",
       "2                                161.007237   \n",
       "3                                309.737608   \n",
       "4                                102.129419   \n",
       "\n",
       "   #Delta{#vec{p}}_{#tau_{1}#tau_{2}}(GeV)  pT_{#tau_{2}}(GeV)   \n",
       "0                                94.298140           39.378457  \\\n",
       "1                               426.224810           81.171911   \n",
       "2                               239.800953           80.503619   \n",
       "3                               390.964653          154.868804   \n",
       "4                               113.896459           51.064710   \n",
       "\n",
       "   #eta_{#tau_{2}}  #phi_{#tau_{2}}  Energy_{#tau_{2}}(GeV)   \n",
       "0         0.054930         0.297775               39.437881  \\\n",
       "1        -0.413751        -2.847966               88.219507   \n",
       "2         1.898676        -1.487421              274.791724   \n",
       "3         0.210937        -2.028119              158.326983   \n",
       "4         0.232409         2.763161               52.450026   \n",
       "\n",
       "   Mass_{#tau_{2}}(GeV))  \n",
       "0              -0.000113  \n",
       "1               0.000249  \n",
       "2              -0.001676  \n",
       "3              -0.000404  \n",
       "4               0.000156  "
      ]
     },
     "execution_count": 13,
     "metadata": {},
     "output_type": "execute_result"
    }
   ],
   "source": [
    "a['ta_ta'].head()"
   ]
  },
  {
   "cell_type": "code",
   "execution_count": 8,
   "metadata": {
    "tags": []
   },
   "outputs": [],
   "source": [
    "default_hist_bins_dict={\n",
    "    \"#Delta{R}\":[96,0,7],\n",
    "    \"#Delta{#eta}\":[80,-5,5],\n",
    "    \"#Delta{#phi}\":[52,-3.25,3.25],\n",
    "    \"#Delta{pT}\":[120, 0.0, 1500.0],\n",
    "    \"#Delta{#vec{pT}}\":[240, 0.0, 4800.0],\n",
    "    \"#Delta{#vec{p}}\":[240, 0.0, 4800.0],\n",
    "    \"MET(GeV)\":[80, 0.0, 1000.0],\n",
    "    \"pT_\": [160, 0.0, 2000.0],\n",
    "    \"sT(GeV)\": [200, 0.0, 4000.0],\n",
    "    \"mT(GeV)\": [200, 0.0, 4000.0],\n",
    "    \"#eta_\":[80, -5, 5],\n",
    "    \"#phi_\":[128, -3.2, 3.2],\n",
    "    \"Energy_\":[80, 0.0, 1000.0]\n",
    "}\n",
    "root_histos ={ signal: make_histograms(a[signal],hist_bins_dict = default_hist_bins_dict) for signal in signals}"
   ]
  },
  {
   "cell_type": "code",
   "execution_count": 9,
   "metadata": {
    "tags": []
   },
   "outputs": [
    {
     "data": {
      "text/plain": [
       "{'ta_ta': {'pT_{#tau_{1}}(GeV)': <cppyy.gbl.TH1F object at 0x55f205878f30>,\n",
       "  '#eta_{#tau_{1}}': <cppyy.gbl.TH1F object at 0x55f20cea7600>,\n",
       "  '#phi_{#tau_{1}}': <cppyy.gbl.TH1F object at 0x55f20cebc400>,\n",
       "  'Energy_{#tau_{1}}(GeV)': <cppyy.gbl.TH1F object at 0x55f20ced84f0>,\n",
       "  '#Delta{R}_{#tau_{1}#tau_{2}}': <cppyy.gbl.TH1F object at 0x55f20ced8a00>,\n",
       "  '#Delta{#eta}_{#tau_{1}#tau_{2}}': <cppyy.gbl.TH1F object at 0x55f20ced4080>,\n",
       "  '#Delta{#phi}_{#tau_{1}#tau_{2}}': <cppyy.gbl.TH1F object at 0x55f20cec6420>,\n",
       "  '#Delta{pT}_{#tau_{1}#tau_{2}}(GeV)': <cppyy.gbl.TH1F object at 0x55f20ced44c0>,\n",
       "  '#Delta{#vec{pT}}_{#tau_{1}#tau_{2}}(GeV)': <cppyy.gbl.TH1F object at 0x55f20cee2120>,\n",
       "  '#Delta{#vec{p}}_{#tau_{1}#tau_{2}}(GeV)': <cppyy.gbl.TH1F object at 0x55f20cf6e200>,\n",
       "  'pT_{#tau_{2}}(GeV)': <cppyy.gbl.TH1F object at 0x55f20cf5dbd0>,\n",
       "  '#eta_{#tau_{2}}': <cppyy.gbl.TH1F object at 0x55f20cf4ec20>,\n",
       "  '#phi_{#tau_{2}}': <cppyy.gbl.TH1F object at 0x55f20cf92630>,\n",
       "  'Energy_{#tau_{2}}(GeV)': <cppyy.gbl.TH1F object at 0x55f20cf5f170>},\n",
       " 'zp_tau_tau': {'pT_{#tau_{1}}(GeV)': <cppyy.gbl.TH1F object at 0x55f20cf52210>,\n",
       "  '#eta_{#tau_{1}}': <cppyy.gbl.TH1F object at 0x55f20cf5a3f0>,\n",
       "  '#phi_{#tau_{1}}': <cppyy.gbl.TH1F object at 0x55f20cf94900>,\n",
       "  'Energy_{#tau_{1}}(GeV)': <cppyy.gbl.TH1F object at 0x55f20cee4940>,\n",
       "  '#Delta{R}_{#tau_{1}#tau_{2}}': <cppyy.gbl.TH1F object at 0x55f20b3c92f0>,\n",
       "  '#Delta{#eta}_{#tau_{1}#tau_{2}}': <cppyy.gbl.TH1F object at 0x55f20cf85b30>,\n",
       "  '#Delta{#phi}_{#tau_{1}#tau_{2}}': <cppyy.gbl.TH1F object at 0x55f20cf85fd0>,\n",
       "  '#Delta{pT}_{#tau_{1}#tau_{2}}(GeV)': <cppyy.gbl.TH1F object at 0x55f20cf93510>,\n",
       "  '#Delta{#vec{pT}}_{#tau_{1}#tau_{2}}(GeV)': <cppyy.gbl.TH1F object at 0x55f20cf9a7b0>,\n",
       "  '#Delta{#vec{p}}_{#tau_{1}#tau_{2}}(GeV)': <cppyy.gbl.TH1F object at 0x55f20cf9ac90>,\n",
       "  'pT_{#tau_{2}}(GeV)': <cppyy.gbl.TH1F object at 0x55f20cf78410>,\n",
       "  '#eta_{#tau_{2}}': <cppyy.gbl.TH1F object at 0x55f20cf95e30>,\n",
       "  '#phi_{#tau_{2}}': <cppyy.gbl.TH1F object at 0x55f20cf978b0>,\n",
       "  'Energy_{#tau_{2}}(GeV)': <cppyy.gbl.TH1F object at 0x55f20cf981d0>}}"
      ]
     },
     "execution_count": 9,
     "metadata": {},
     "output_type": "execute_result"
    }
   ],
   "source": [
    "root_histos"
   ]
  },
  {
   "cell_type": "code",
   "execution_count": 10,
   "metadata": {
    "tags": []
   },
   "outputs": [
    {
     "data": {
      "image/png": "[encoded data removed]",
      "text/plain": [
       "<IPython.core.display.Image object>"
      ]
     },
     "metadata": {},
     "output_type": "display_data"
    }
   ],
   "source": [
    "histos, canvas, legend = overlap_histos( 'pT_{#tau_{1}}(GeV)', root_histos, log_scale =True)"
   ]
  },
  {
   "cell_type": "code",
   "execution_count": 11,
   "metadata": {
    "tags": []
   },
   "outputs": [
    {
     "data": {
      "image/png": "[encoded data removed]",
      "text/plain": [
       "<IPython.core.display.Image object>"
      ]
     },
     "metadata": {},
     "output_type": "display_data"
    }
   ],
   "source": [
    "histos, canvas, legend = overlap_histos( 'pT_{#tau_{2}}(GeV)', root_histos, log_scale =True)"
   ]
  },
  {
   "cell_type": "code",
   "execution_count": 12,
   "metadata": {
    "tags": []
   },
   "outputs": [
    {
     "data": {
      "image/png": "[encoded data removed]",
      "text/plain": [
       "<IPython.core.display.Image object>"
      ]
     },
     "metadata": {},
     "output_type": "display_data"
    }
   ],
   "source": [
    "histos, canvas, legend = overlap_histos('#Delta{R}_{#tau_{1}#tau_{2}}', root_histos, log_scale =True)"
   ]
  }
 ],
 "metadata": {
  "kernelspec": {
   "display_name": "Python 3 (ipykernel)",
   "language": "python",
   "name": "python3"
  },
  "language_info": {
   "codemirror_mode": {
    "name": "ipython",
    "version": 3
   },
   "file_extension": ".py",
   "mimetype": "text/x-python",
   "name": "python",
   "nbconvert_exporter": "python",
   "pygments_lexer": "ipython3",
   "version": "3.9.4"
  }
 },
 "nbformat": 4,
 "nbformat_minor": 4
}
