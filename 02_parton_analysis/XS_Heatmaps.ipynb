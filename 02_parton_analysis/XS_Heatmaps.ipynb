{
 "cells": [
  {
   "cell_type": "code",
   "execution_count": null,
   "id": "7966e8f1-b664-400f-96ae-89a78455bad1",
   "metadata": {},
   "outputs": [],
   "source": [
    "import pandas as pd\n",
    "import matplotlib.pyplot as plt\n",
    "plt.rcParams[\"font.family\"] = \"serif\"\n",
    "\n",
    "import os\n",
    "\n",
    "import subprocess\n",
    "\n",
    "## IMPORTANT: Make sure that \"Uniandes_Framework\" is in .gitignore\n",
    "framework_path = \"Uniandes_Framework\"\n",
    "\n",
    "if os.path.exists(framework_path):\n",
    "    # Pull updates if the framework is already cloned\n",
    "    try:\n",
    "        subprocess.run([\"git\", \"-C\", framework_path, \"pull\"])\n",
    "    except subprocess.CalledProcessError as e:\n",
    "        raise Exception(f\"Error occurred while pulling updates from the framework: {e}\")\n",
    "else:\n",
    "    # Clone the framework if it is not already cloned\n",
    "    try:\n",
    "        subprocess.run([\"git\", \"clone\", \"git@github.com:Phenomenology-group-uniandes/Uniandes_Framework.git\"])\n",
    "    except subprocess.CalledProcessError as e:\n",
    "        raise Exception(f\"Error occurred while cloning the framework: {e}\")\n",
    "        \n",
    "from Uniandes_Framework.heatmaps_utilities.functions import smooth, plot_heatmap"
   ]
  },
  {
   "cell_type": "code",
   "execution_count": null,
   "id": "02b28e23-8481-4335-86ee-3781d3f931ae",
   "metadata": {},
   "outputs": [],
   "source": [
    "gU = 1.75"
   ]
  },
  {
   "cell_type": "code",
   "execution_count": null,
   "id": "e92f902d-3a41-48ba-a4af-3abb7a9d6b63",
   "metadata": {},
   "outputs": [],
   "source": [
    "signals = ['non-res_tau_tau', 'zp_tau_tau']"
   ]
  },
  {
   "cell_type": "code",
   "execution_count": null,
   "id": "fac7da1f-414b-419d-b5c7-a258a6484f73",
   "metadata": {},
   "outputs": [],
   "source": [
    "XS = {}\n",
    "\n",
    "for signal in signals:\n",
    "    Path = os.path.join(os.path.dirname(os.getcwd()), \"01_signal_production\", 'xs_13TeV', 'woRHC', 'zp_upper_limit', signal, f'XS_matrix_{gU}.csv')\n",
    "    \n",
    "    XS[signal] = pd.read_csv(Path, index_col= 0)\n",
    "    XS[signal].columns = [float(i) for i in XS[signal].columns]\n",
    "    XS[signal].index = [float(i) for i in XS[signal].index]"
   ]
  },
  {
   "cell_type": "code",
   "execution_count": null,
   "id": "3ebd4804-cb44-4086-adb1-1d92509886b4",
   "metadata": {},
   "outputs": [],
   "source": [
    "XS[signal].index"
   ]
  },
  {
   "cell_type": "code",
   "execution_count": null,
   "id": "4d5d9285-40db-43a8-9e99-09590c4c2a16",
   "metadata": {},
   "outputs": [],
   "source": [
    "\n",
    "Heatmap_Dataframe = XS['zp_tau_tau'].copy()*0\n",
    "\n",
    "for M in Heatmap_Dataframe.columns:\n",
    "    for gZ in Heatmap_Dataframe.index:\n",
    "        Heatmap_Dataframe[M][gZ] = XS['zp_tau_tau'][M][gZ] / (XS['zp_tau_tau'][M][gZ] + XS['ta_ta'][M][gZ])\n",
    "        \n",
    "Heatmap_Dataframe.index = [gZ/gU for gZ in Heatmap_Dataframe.index]\n",
    "Heatmap_Dataframe.columns = [M/1000 for M in Heatmap_Dataframe.columns]\n",
    "\n",
    "        \n",
    "fig, ax, curves = plot_heatmap(Heatmap_Dataframe,\n",
    "                               title_right = r'$\\mathbf{\\sqrt{s} = 13 TeV , g_{U} = ' + f'{gU}' + '}$',\n",
    "                               x_label = r'$M_{U}$ [TeV]', \n",
    "                               y_label = r'$g_{Z^{\\prime}} / g_U$', \n",
    "                               cbar_label = r'$\\frac{XS[Z^{\\prime} \\rightarrow \\tau \\tau]}{XS[Z^{\\prime} \\rightarrow \\tau \\tau] + XS[\\tau \\tau]}$')\n",
    "\n",
    "# plt.clim(0,1)\n",
    "# plt.ylim(0.5,2)"
   ]
  },
  {
   "cell_type": "code",
   "execution_count": null,
   "id": "b13b388c-b5a3-40d4-a072-c84377d03046",
   "metadata": {},
   "outputs": [],
   "source": []
  }
 ],
 "metadata": {
  "kernelspec": {
   "display_name": "Python 3 (ipykernel)",
   "language": "python",
   "name": "python3"
  },
  "language_info": {
   "codemirror_mode": {
    "name": "ipython",
    "version": 3
   },
   "file_extension": ".py",
   "mimetype": "text/x-python",
   "name": "python",
   "nbconvert_exporter": "python",
   "pygments_lexer": "ipython3",
   "version": "3.9.4"
  }
 },
 "nbformat": 4,
 "nbformat_minor": 5
}
