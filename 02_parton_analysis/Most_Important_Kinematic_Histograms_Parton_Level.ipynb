{
 "cells": [
  {
   "cell_type": "markdown",
   "metadata": {},
   "source": [
    "$$\\textrm{Joaquin Peñuela Parra, Cristian Fernando Rodriguez Cruz}$$\n",
    "$$\\textrm{University of Los Andes}$$\n",
    "$$\\textrm{High Energy Physics Group: Phenomenology of Particles}$$\n",
    "\n",
    "This code was written to be running in Docker. If you do not have a Docker inside hep-server2 please refer to: https://github.com/Phenomenology-group-uniandes/Tutoriales_Generales"
   ]
  },
  {
   "cell_type": "code",
   "execution_count": 1,
   "metadata": {},
   "outputs": [],
   "source": [
    "import os\n",
    "from itertools import product\n",
    "import pandas as pd\n",
    "import multiprocessing as mp"
   ]
  },
  {
   "cell_type": "code",
   "execution_count": 2,
   "metadata": {},
   "outputs": [
    {
     "name": "stderr",
     "output_type": "stream",
     "text": [
      "hint: Pulling without specifying how to reconcile divergent branches is\n",
      "hint: discouraged. You can squelch this message by running one of the following\n",
      "hint: commands sometime before your next pull:\n",
      "hint: \n",
      "hint:   git config pull.rebase false  # merge (the default strategy)\n",
      "hint:   git config pull.rebase true   # rebase\n",
      "hint:   git config pull.ff only       # fast-forward only\n",
      "hint: \n",
      "hint: You can replace \"git config\" with \"git config --global\" to set a default\n",
      "hint: preference for all repositories. You can also pass --rebase, --no-rebase,\n",
      "hint: or --ff-only on the command line to override the configured default per\n",
      "hint: invocation.\n"
     ]
    },
    {
     "name": "stdout",
     "output_type": "stream",
     "text": [
      "Already up to date.\n",
      "Welcome to JupyROOT 6.22/06\n"
     ]
    }
   ],
   "source": [
    "import subprocess\n",
    "\n",
    "## IMPORTANT: Make sure that \"Uniandes_Framework\" is in .gitignore\n",
    "framework_path = \"Uniandes_Framework\"\n",
    "\n",
    "if os.path.exists(framework_path):\n",
    "    # Pull updates if the framework is already cloned\n",
    "    try:\n",
    "        subprocess.run([\"git\", \"-C\", framework_path, \"pull\"])\n",
    "    except subprocess.CalledProcessError as e:\n",
    "        raise Exception(f\"Error occurred while pulling updates from the framework: {e}\")\n",
    "else:\n",
    "    # Clone the framework if it is not already cloned\n",
    "    try:\n",
    "        subprocess.run([\"git\", \"clone\", \"git@github.com:Phenomenology-group-uniandes/Uniandes_Framework.git\"])\n",
    "    except subprocess.CalledProcessError as e:\n",
    "        raise Exception(f\"Error occurred while cloning the framework: {e}\")\n",
    "from Uniandes_Framework.delphes_reader.lhereader import LHE_Loader, readLHEF, get_event_by_child\n",
    "from Uniandes_Framework.delphes_reader.root_analysis import get_kinematics_row, make_histograms, overlap_histos, Quiet"
   ]
  },
  {
   "cell_type": "code",
   "execution_count": 3,
   "metadata": {},
   "outputs": [],
   "source": [
    "case = \"woRHC\"\n",
    "# case = \"wRHC\"\n",
    "\n",
    "limit = 'zp_upper_limit'\n",
    "# limit = 'zp_lower_limit'"
   ]
  },
  {
   "cell_type": "code",
   "execution_count": 4,
   "metadata": {},
   "outputs": [],
   "source": [
    "sim_path = os.path.join(os.sep, 'disco4', 'personal_folders', 'Cristian', 'SIMULATIONS', 'lq_zp', case, limit)\n",
    "\n",
    "signals = [\"non-res_tau_tau\",\n",
    "           # \"zp_tau_tau\"\n",
    "          ]\n",
    "\n",
    "M_U= [1000]\n",
    "G_U = [1.75]\n",
    "G_ZP = [1.25, 1.5]\n",
    "\n",
    "csv_sim_path = pd.read_csv(os.path.join(\"Uniandes_Framework\", \"SimulationsPaths.csv\"))\n",
    "\n",
    "#xs_path = { signal: os.path.join( os.path.dirname(os.getcwd()), \"01_signal_production\", f\"xs_signals_{case}\", signal, \"XS_Matrix.csv\") for signal in signals}\n",
    "\n",
    "df = pd.concat(\n",
    "    [csv_sim_path]\n",
    "    +\n",
    "    [ pd.DataFrame.from_dict(\n",
    "    {\n",
    "        \"name\": f\"{case}_{limit}_\" + signal + f\"_mu_{m}_gu{gu}_gzp_{gzp}\".replace('.', '_'), \n",
    "        \"path\": os.path.join(sim_path, signal,f'mu_{m}_gu{gu}_gzp_{gzp}'.replace('.', '_')),  \n",
    "        'xs(pb)': 1.0\n",
    "    }, \n",
    "    orient = \"index\").T for signal, m , gu, gzp in product(signals,M_U,G_U, G_ZP) ]\n",
    ")\n",
    "\n",
    "# save the new csv\n",
    "csv_sim_path = os.path.join(os.getcwd(), \"SimulationsPaths.csv\")\n",
    "df.to_csv(csv_sim_path, index = False)"
   ]
  },
  {
   "cell_type": "code",
   "execution_count": 5,
   "metadata": {},
   "outputs": [],
   "source": [
    "def get_kinematics(run):\n",
    "    run_name = os.path.basename(os.path.dirname(run))\n",
    "    childs=readLHEF(run)\n",
    "    if os.path.isfile(run):\n",
    "        print('Reading', run_name)\n",
    "    else:\n",
    "        pass\n",
    "    \n",
    "    results = list()\n",
    "    for child in childs:\n",
    "        event = get_event_by_child(child)\n",
    "        taus = event.getParticlesByIDs([-15,15])\n",
    "        if len(taus) == 2:\n",
    "            taus[0].SetName(\"#tau_{1}\")\n",
    "            taus[1].SetName(\"#tau_{2}\")\n",
    "            sum_taus = taus[0].TLV + taus[1].TLV\n",
    "        else :\n",
    "            continue\n",
    "        row = get_kinematics_row(taus)\n",
    "        row[\"m_ll(GeV)\"] = sum_taus.M()\n",
    "        row[\"sT(GeV)\"] = row[\"pT_{#tau_{1}}(GeV)\"] + row[\"pT_{#tau_{2}}(GeV)\"]\n",
    "        \n",
    "        results.append(row)\n",
    "    print(run_name, 'done!')\n",
    "    return results\n"
   ]
  },
  {
   "cell_type": "code",
   "execution_count": 6,
   "metadata": {},
   "outputs": [],
   "source": [
    "# Load the simulation\n",
    "\n",
    "def load_simulation(x):\n",
    "    signal, m, gu, gzp = x\n",
    "    signal_key = f\"{case}_{limit}_\" + signal + f\"_mu_{m}_gu{gu}_gzp_{gzp}\".replace('.', '_')\n",
    "    \n",
    "    lhe_loader = LHE_Loader(signal_key, csv_sim_path)\n",
    "    results = list()\n",
    "    \n",
    "    n_cores = 3\n",
    "    with mp.Pool(n_cores) as pool:\n",
    "        for result in list(pool.map(get_kinematics, lhe_loader.Forest)):\n",
    "            results += result\n",
    "    return signal_key, pd.DataFrame.from_records(results)"
   ]
  },
  {
   "cell_type": "code",
   "execution_count": 7,
   "metadata": {
    "tags": []
   },
   "outputs": [
    {
     "name": "stdout",
     "output_type": "stream",
     "text": [
      "woRHC_zp_upper_limit_non-res_tau_tau_mu_1000_gu1_75_gzp_1_25 imported with 1 trees!\n",
      "/disco4/personal_folders/Cristian/SIMULATIONS/lq_zp/woRHC/zp_upper_limit/non-res_tau_tau/mu_1000_gu1_75_gzp_1_25\n",
      "Reading run_01\n",
      "run_01 done!\n",
      "woRHC_zp_upper_limit_non-res_tau_tau_mu_1000_gu1_75_gzp_1_5 imported with 1 trees!\n",
      "/disco4/personal_folders/Cristian/SIMULATIONS/lq_zp/woRHC/zp_upper_limit/non-res_tau_tau/mu_1000_gu1_75_gzp_1_5\n",
      "Reading run_01\n",
      "run_01 done!\n"
     ]
    }
   ],
   "source": [
    "a = dict(map(load_simulation, product(signals,M_U,G_U, G_ZP)))"
   ]
  },
  {
   "cell_type": "code",
   "execution_count": 8,
   "metadata": {},
   "outputs": [
    {
     "data": {
      "text/plain": [
       "dict_keys(['woRHC_zp_upper_limit_non-res_tau_tau_mu_1000_gu1_75_gzp_1_25', 'woRHC_zp_upper_limit_non-res_tau_tau_mu_1000_gu1_75_gzp_1_5'])"
      ]
     },
     "execution_count": 8,
     "metadata": {},
     "output_type": "execute_result"
    }
   ],
   "source": [
    "a.keys()"
   ]
  },
  {
   "cell_type": "code",
   "execution_count": 9,
   "metadata": {
    "tags": []
   },
   "outputs": [
    {
     "data": {
      "text/html": [
       "<div>\n",
       "<style scoped>\n",
       "    .dataframe tbody tr th:only-of-type {\n",
       "        vertical-align: middle;\n",
       "    }\n",
       "\n",
       "    .dataframe tbody tr th {\n",
       "        vertical-align: top;\n",
       "    }\n",
       "\n",
       "    .dataframe thead th {\n",
       "        text-align: right;\n",
       "    }\n",
       "</style>\n",
       "<table border=\"1\" class=\"dataframe\">\n",
       "  <thead>\n",
       "    <tr style=\"text-align: right;\">\n",
       "      <th></th>\n",
       "      <th>pT_{#tau_{1}}(GeV)</th>\n",
       "      <th>#eta_{#tau_{1}}</th>\n",
       "      <th>#phi_{#tau_{1}}</th>\n",
       "      <th>Energy_{#tau_{1}}(GeV)</th>\n",
       "      <th>Mass_{#tau_{1}}(GeV))</th>\n",
       "      <th>#Delta{R}_{#tau_{1}#tau_{2}}</th>\n",
       "      <th>#Delta{#eta}_{#tau_{1}#tau_{2}}</th>\n",
       "      <th>#Delta{#phi}_{#tau_{1}#tau_{2}}</th>\n",
       "      <th>#Delta{pT}_{#tau_{1}#tau_{2}}(GeV)</th>\n",
       "      <th>#Delta{#vec{pT}}_{#tau_{1}#tau_{2}}(GeV)</th>\n",
       "      <th>#Delta{#vec{p}}_{#tau_{1}#tau_{2}}(GeV)</th>\n",
       "      <th>pT_{#tau_{2}}(GeV)</th>\n",
       "      <th>#eta_{#tau_{2}}</th>\n",
       "      <th>#phi_{#tau_{2}}</th>\n",
       "      <th>Energy_{#tau_{2}}(GeV)</th>\n",
       "      <th>Mass_{#tau_{2}}(GeV))</th>\n",
       "      <th>m_ll(GeV)</th>\n",
       "      <th>sT(GeV)</th>\n",
       "    </tr>\n",
       "  </thead>\n",
       "  <tbody>\n",
       "    <tr>\n",
       "      <th>0</th>\n",
       "      <td>72.364782</td>\n",
       "      <td>2.107338</td>\n",
       "      <td>0.628037</td>\n",
       "      <td>302.045935</td>\n",
       "      <td>0.002163</td>\n",
       "      <td>3.697778</td>\n",
       "      <td>1.950375</td>\n",
       "      <td>3.141593</td>\n",
       "      <td>0.0</td>\n",
       "      <td>144.729565</td>\n",
       "      <td>316.832186</td>\n",
       "      <td>72.364782</td>\n",
       "      <td>0.156963</td>\n",
       "      <td>-2.513556</td>\n",
       "      <td>73.258052</td>\n",
       "      <td>0.000293</td>\n",
       "      <td>219.177413</td>\n",
       "      <td>144.729565</td>\n",
       "    </tr>\n",
       "    <tr>\n",
       "      <th>1</th>\n",
       "      <td>171.761324</td>\n",
       "      <td>-2.376154</td>\n",
       "      <td>2.804024</td>\n",
       "      <td>932.348848</td>\n",
       "      <td>-0.001387</td>\n",
       "      <td>3.333441</td>\n",
       "      <td>-1.114551</td>\n",
       "      <td>3.141593</td>\n",
       "      <td>0.0</td>\n",
       "      <td>343.522649</td>\n",
       "      <td>724.130280</td>\n",
       "      <td>171.761324</td>\n",
       "      <td>-1.261603</td>\n",
       "      <td>-0.337569</td>\n",
       "      <td>327.572498</td>\n",
       "      <td>-0.002258</td>\n",
       "      <td>398.258998</td>\n",
       "      <td>343.522649</td>\n",
       "    </tr>\n",
       "    <tr>\n",
       "      <th>2</th>\n",
       "      <td>116.749544</td>\n",
       "      <td>-0.245187</td>\n",
       "      <td>0.118670</td>\n",
       "      <td>120.276442</td>\n",
       "      <td>0.000887</td>\n",
       "      <td>3.373193</td>\n",
       "      <td>-1.228343</td>\n",
       "      <td>3.141593</td>\n",
       "      <td>0.0</td>\n",
       "      <td>233.499087</td>\n",
       "      <td>284.823042</td>\n",
       "      <td>116.749544</td>\n",
       "      <td>0.983157</td>\n",
       "      <td>-3.022923</td>\n",
       "      <td>177.868449</td>\n",
       "      <td>-0.000244</td>\n",
       "      <td>278.939645</td>\n",
       "      <td>233.499087</td>\n",
       "    </tr>\n",
       "    <tr>\n",
       "      <th>3</th>\n",
       "      <td>278.938110</td>\n",
       "      <td>1.368815</td>\n",
       "      <td>2.251413</td>\n",
       "      <td>583.691834</td>\n",
       "      <td>0.002083</td>\n",
       "      <td>3.695927</td>\n",
       "      <td>1.946863</td>\n",
       "      <td>3.141593</td>\n",
       "      <td>0.0</td>\n",
       "      <td>557.876219</td>\n",
       "      <td>881.957211</td>\n",
       "      <td>278.938110</td>\n",
       "      <td>-0.578048</td>\n",
       "      <td>-0.890180</td>\n",
       "      <td>326.852340</td>\n",
       "      <td>0.001829</td>\n",
       "      <td>843.730998</td>\n",
       "      <td>557.876219</td>\n",
       "    </tr>\n",
       "    <tr>\n",
       "      <th>4</th>\n",
       "      <td>126.216139</td>\n",
       "      <td>-0.894345</td>\n",
       "      <td>2.514940</td>\n",
       "      <td>180.148827</td>\n",
       "      <td>0.000533</td>\n",
       "      <td>4.124508</td>\n",
       "      <td>-2.672444</td>\n",
       "      <td>3.141593</td>\n",
       "      <td>0.0</td>\n",
       "      <td>252.432279</td>\n",
       "      <td>552.437235</td>\n",
       "      <td>126.216139</td>\n",
       "      <td>1.778099</td>\n",
       "      <td>-0.626653</td>\n",
       "      <td>384.173915</td>\n",
       "      <td>-0.000900</td>\n",
       "      <td>513.381595</td>\n",
       "      <td>252.432279</td>\n",
       "    </tr>\n",
       "  </tbody>\n",
       "</table>\n",
       "</div>"
      ],
      "text/plain": [
       "   pT_{#tau_{1}}(GeV)  #eta_{#tau_{1}}  #phi_{#tau_{1}}  \\\n",
       "0           72.364782         2.107338         0.628037   \n",
       "1          171.761324        -2.376154         2.804024   \n",
       "2          116.749544        -0.245187         0.118670   \n",
       "3          278.938110         1.368815         2.251413   \n",
       "4          126.216139        -0.894345         2.514940   \n",
       "\n",
       "   Energy_{#tau_{1}}(GeV)  Mass_{#tau_{1}}(GeV))  \\\n",
       "0              302.045935               0.002163   \n",
       "1              932.348848              -0.001387   \n",
       "2              120.276442               0.000887   \n",
       "3              583.691834               0.002083   \n",
       "4              180.148827               0.000533   \n",
       "\n",
       "   #Delta{R}_{#tau_{1}#tau_{2}}  #Delta{#eta}_{#tau_{1}#tau_{2}}  \\\n",
       "0                      3.697778                         1.950375   \n",
       "1                      3.333441                        -1.114551   \n",
       "2                      3.373193                        -1.228343   \n",
       "3                      3.695927                         1.946863   \n",
       "4                      4.124508                        -2.672444   \n",
       "\n",
       "   #Delta{#phi}_{#tau_{1}#tau_{2}}  #Delta{pT}_{#tau_{1}#tau_{2}}(GeV)  \\\n",
       "0                         3.141593                                 0.0   \n",
       "1                         3.141593                                 0.0   \n",
       "2                         3.141593                                 0.0   \n",
       "3                         3.141593                                 0.0   \n",
       "4                         3.141593                                 0.0   \n",
       "\n",
       "   #Delta{#vec{pT}}_{#tau_{1}#tau_{2}}(GeV)  \\\n",
       "0                                144.729565   \n",
       "1                                343.522649   \n",
       "2                                233.499087   \n",
       "3                                557.876219   \n",
       "4                                252.432279   \n",
       "\n",
       "   #Delta{#vec{p}}_{#tau_{1}#tau_{2}}(GeV)  pT_{#tau_{2}}(GeV)  \\\n",
       "0                               316.832186           72.364782   \n",
       "1                               724.130280          171.761324   \n",
       "2                               284.823042          116.749544   \n",
       "3                               881.957211          278.938110   \n",
       "4                               552.437235          126.216139   \n",
       "\n",
       "   #eta_{#tau_{2}}  #phi_{#tau_{2}}  Energy_{#tau_{2}}(GeV)  \\\n",
       "0         0.156963        -2.513556               73.258052   \n",
       "1        -1.261603        -0.337569              327.572498   \n",
       "2         0.983157        -3.022923              177.868449   \n",
       "3        -0.578048        -0.890180              326.852340   \n",
       "4         1.778099        -0.626653              384.173915   \n",
       "\n",
       "   Mass_{#tau_{2}}(GeV))   m_ll(GeV)     sT(GeV)  \n",
       "0               0.000293  219.177413  144.729565  \n",
       "1              -0.002258  398.258998  343.522649  \n",
       "2              -0.000244  278.939645  233.499087  \n",
       "3               0.001829  843.730998  557.876219  \n",
       "4              -0.000900  513.381595  252.432279  "
      ]
     },
     "execution_count": 9,
     "metadata": {},
     "output_type": "execute_result"
    }
   ],
   "source": [
    "a['woRHC_zp_upper_limit_non-res_tau_tau_mu_1000_gu1_75_gzp_1_25'].head()"
   ]
  },
  {
   "cell_type": "code",
   "execution_count": 10,
   "metadata": {
    "tags": []
   },
   "outputs": [],
   "source": [
    "default_hist_bins_dict={\n",
    "    \"#Delta{R}\":[96,0,7],\n",
    "    \"#Delta{#eta}\":[80,-5,5],\n",
    "    \"#Delta{#phi}\":[52,-3.25,3.25],\n",
    "    \"#Delta{pT}\":[120, 0.0, 1500.0],\n",
    "    \"#Delta{#vec{pT}}\":[240, 0.0, 4800.0],\n",
    "    \"#Delta{#vec{p}}\":[240, 0.0, 4800.0],\n",
    "    \"MET(GeV)\":[80, 0.0, 1000.0],\n",
    "    \"pT_\": [160, 0.0, 2000.0],\n",
    "    \"sT(GeV)\": [200, 0.0, 4000.0],\n",
    "    \"mT(GeV)\": [200, 0.0, 4000.0],\n",
    "    \"#eta_\":[80, -5, 5],\n",
    "    \"#phi_\":[128, -3.2, 3.2],\n",
    "    \"Energy_\":[80, 0.0, 1000.0],\n",
    "    \"m_ll(GeV)\" : [160, 0.0, 2000.0]\n",
    "}"
   ]
  },
  {
   "cell_type": "code",
   "execution_count": 11,
   "metadata": {},
   "outputs": [],
   "source": [
    "root_histos = {'wRHC': {'zp_upper_limit': {}, 'zp_lower_limit': {}},\n",
    "               'woRHC': {'zp_upper_limit': {}, 'zp_lower_limit': {}}}\n",
    "\n",
    "for key in a.keys():\n",
    "    Betard = key.split('_')[0]\n",
    "    ZP_Limit = 'zp_' + key.split('_')[2] + '_limit'\n",
    "    m_gu_gz = \"mu\" + key.split('mu')[1]\n",
    "    signal = ''.join(key.split('_')[4: len(key.split('_')) - 7]).replace('tau', ' #tau').replace('mu', ' mu')\n",
    "    \n",
    "    root_histos[Betard][ZP_Limit][m_gu_gz] = {}\n",
    "    root_histos[Betard][ZP_Limit][m_gu_gz][signal] = make_histograms(a[key],hist_bins_dict = default_hist_bins_dict)"
   ]
  },
  {
   "cell_type": "code",
   "execution_count": 12,
   "metadata": {
    "tags": []
   },
   "outputs": [
    {
     "data": {
      "text/plain": [
       "{'non-res #tau #tau': {'pT_{#tau_{1}}(GeV)': <cppyy.gbl.TH1F object at 0x55aa6b130b90>,\n",
       "  '#eta_{#tau_{1}}': <cppyy.gbl.TH1F object at 0x55aa6b908900>,\n",
       "  '#phi_{#tau_{1}}': <cppyy.gbl.TH1F object at 0x55aa6b908da0>,\n",
       "  'Energy_{#tau_{1}}(GeV)': <cppyy.gbl.TH1F object at 0x55aa6b91d600>,\n",
       "  '#Delta{R}_{#tau_{1}#tau_{2}}': <cppyy.gbl.TH1F object at 0x55aa6b9434f0>,\n",
       "  '#Delta{#eta}_{#tau_{1}#tau_{2}}': <cppyy.gbl.TH1F object at 0x55aa6b9439d0>,\n",
       "  '#Delta{#phi}_{#tau_{1}#tau_{2}}': <cppyy.gbl.TH1F object at 0x55aa6b944000>,\n",
       "  '#Delta{pT}_{#tau_{1}#tau_{2}}(GeV)': <cppyy.gbl.TH1F object at 0x55aa6b9444e0>,\n",
       "  '#Delta{#vec{pT}}_{#tau_{1}#tau_{2}}(GeV)': <cppyy.gbl.TH1F object at 0x55aa6b8e7a20>,\n",
       "  '#Delta{#vec{p}}_{#tau_{1}#tau_{2}}(GeV)': <cppyy.gbl.TH1F object at 0x55aa6b8e8620>,\n",
       "  'pT_{#tau_{2}}(GeV)': <cppyy.gbl.TH1F object at 0x55aa6b1051e0>,\n",
       "  '#eta_{#tau_{2}}': <cppyy.gbl.TH1F object at 0x55aa6b901a60>,\n",
       "  '#phi_{#tau_{2}}': <cppyy.gbl.TH1F object at 0x55aa6b902050>,\n",
       "  'Energy_{#tau_{2}}(GeV)': <cppyy.gbl.TH1F object at 0x55aa6b902940>,\n",
       "  'm_ll(GeV)': <cppyy.gbl.TH1F object at 0x55aa6b8f4230>,\n",
       "  'sT(GeV)': <cppyy.gbl.TH1F object at 0x55aa6b8f4bf0>}}"
      ]
     },
     "execution_count": 12,
     "metadata": {},
     "output_type": "execute_result"
    }
   ],
   "source": [
    "root_histos[Betard][ZP_Limit][m_gu_gz]"
   ]
  },
  {
   "cell_type": "code",
   "execution_count": 13,
   "metadata": {},
   "outputs": [],
   "source": [
    "# !rm -rf Most_Important_Kinematic_Histograms/"
   ]
  },
  {
   "cell_type": "code",
   "execution_count": 14,
   "metadata": {},
   "outputs": [
    {
     "data": {
      "image/png": "[encoded data removed]",
      "text/plain": [
       "<IPython.core.display.Image object>"
      ]
     },
     "metadata": {},
     "output_type": "display_data"
    }
   ],
   "source": [
    "Important_features = ['m_ll(GeV)', 'sT(GeV)','#Delta{R}_{#tau_{1}#tau_{2}}', '#Delta{#phi}_{#tau_{1}#tau_{2}}', '#phi_{#tau_{1}}', '#eta_{#tau_{1}}', '#phi_{#tau_{2}}', \n",
    "                      '#Delta{pT}_{#tau_{1}#tau_{2}}(GeV)', '#Delta{#vec{pT}}_{#tau_{1}#tau_{2}}(GeV)', 'pT_{#tau_{1}}(GeV)', 'pT_{#tau_{2}}(GeV)']\n",
    "\n",
    "folder = 'Most_Important_Kinematic_Histograms'\n",
    "os.makedirs(folder, exist_ok=True)\n",
    "\n",
    "for Betard in root_histos.keys():\n",
    "    for ZP_Limit in root_histos[Betard].keys():\n",
    "        for m_gu_gz in root_histos[Betard][ZP_Limit].keys():\n",
    "            os.makedirs(os.path.join(folder, Betard, ZP_Limit, m_gu_gz), exist_ok=True)\n",
    "            \n",
    "            for feature in Important_features:\n",
    "                histos, canvas, legend = overlap_histos(feature, root_histos[Betard][ZP_Limit][m_gu_gz], log_scale =True)\n",
    "                with Quiet(): canvas.SaveAs(os.path.join(folder, Betard, ZP_Limit, m_gu_gz, f\"{feature}.pdf\".replace('{', '').replace('}', '')))"
   ]
  }
 ],
 "metadata": {
  "kernelspec": {
   "display_name": "Python 3 (ipykernel)",
   "language": "python",
   "name": "python3"
  },
  "language_info": {
   "codemirror_mode": {
    "name": "ipython",
    "version": 3
   },
   "file_extension": ".py",
   "mimetype": "text/x-python",
   "name": "python",
   "nbconvert_exporter": "python",
   "pygments_lexer": "ipython3",
   "version": "3.9.4"
  }
 },
 "nbformat": 4,
 "nbformat_minor": 4
}
