{
 "cells": [
  {
   "cell_type": "markdown",
   "metadata": {},
   "source": [
    "$$\\textrm{Joaquin Peñuela Parra, Cristian Fernando Rodriguez Cruz}$$\n",
    "$$\\textrm{University of Los Andes}$$\n",
    "$$\\textrm{High Energy Physics Group: Phenomenology of Particles}$$\n",
    "\n",
    "This code was written to be running in Docker. If you do not have a Docker inside hep-server2 please refer to: https://github.com/Phenomenology-group-uniandes/Tutoriales_Generales"
   ]
  },
  {
   "cell_type": "code",
   "execution_count": 1,
   "metadata": {},
   "outputs": [],
   "source": [
    "import os\n",
    "from itertools import product\n",
    "import pandas as pd\n",
    "import multiprocessing as mp"
   ]
  },
  {
   "cell_type": "code",
   "execution_count": 2,
   "metadata": {},
   "outputs": [
    {
     "name": "stderr",
     "output_type": "stream",
     "text": [
      "hint: Pulling without specifying how to reconcile divergent branches is\n",
      "hint: discouraged. You can squelch this message by running one of the following\n",
      "hint: commands sometime before your next pull:\n",
      "hint: \n",
      "hint:   git config pull.rebase false  # merge (the default strategy)\n",
      "hint:   git config pull.rebase true   # rebase\n",
      "hint:   git config pull.ff only       # fast-forward only\n",
      "hint: \n",
      "hint: You can replace \"git config\" with \"git config --global\" to set a default\n",
      "hint: preference for all repositories. You can also pass --rebase, --no-rebase,\n",
      "hint: or --ff-only on the command line to override the configured default per\n",
      "hint: invocation.\n"
     ]
    },
    {
     "name": "stdout",
     "output_type": "stream",
     "text": [
      "Already up to date.\n",
      "Welcome to JupyROOT 6.22/06\n"
     ]
    }
   ],
   "source": [
    "import subprocess\n",
    "\n",
    "## IMPORTANT: Make sure that \"Uniandes_Framework\" is in .gitignore\n",
    "framework_path = \"Uniandes_Framework\"\n",
    "\n",
    "if os.path.exists(framework_path):\n",
    "    # Pull updates if the framework is already cloned\n",
    "    try:\n",
    "        subprocess.run([\"git\", \"-C\", framework_path, \"pull\"])\n",
    "    except subprocess.CalledProcessError as e:\n",
    "        raise Exception(f\"Error occurred while pulling updates from the framework: {e}\")\n",
    "else:\n",
    "    # Clone the framework if it is not already cloned\n",
    "    try:\n",
    "        subprocess.run([\"git\", \"clone\", \"git@github.com:Phenomenology-group-uniandes/Uniandes_Framework.git\"])\n",
    "    except subprocess.CalledProcessError as e:\n",
    "        raise Exception(f\"Error occurred while cloning the framework: {e}\")\n",
    "from Uniandes_Framework.delphes_reader.lhereader import LHE_Loader, readLHEF, get_event_by_child\n",
    "from Uniandes_Framework.delphes_reader.root_analysis import get_kinematics_row, make_histograms, overlap_histos, Quiet"
   ]
  },
  {
   "cell_type": "code",
   "execution_count": 3,
   "metadata": {},
   "outputs": [],
   "source": [
    "case = \"woRHC\"\n",
    "# case = \"wRHC\"\n",
    "\n",
    "limit = 'zp_upper_limit'\n",
    "# limit = 'zp_lower_limit'"
   ]
  },
  {
   "cell_type": "code",
   "execution_count": 4,
   "metadata": {},
   "outputs": [],
   "source": [
    "sim_path = os.path.join(os.sep, 'disco4', 'personal_folders', 'Cristian', 'SIMULATIONS', 'lq_zp', case, limit)\n",
    "\n",
    "signals = [\"zp_tau_tau\", \n",
    "           \"non-res_tau_tau\",\n",
    "          ]\n",
    "\n",
    "M_U= [1000]\n",
    "G_U = [1.75]\n",
    "G_ZP = [1.5]\n",
    "\n",
    "csv_sim_path = pd.read_csv(os.path.join(\"Uniandes_Framework\", \"SimulationsPaths.csv\"))\n",
    "\n",
    "#xs_path = { signal: os.path.join( os.path.dirname(os.getcwd()), \"01_signal_production\", f\"xs_signals_{case}\", signal, \"XS_Matrix.csv\") for signal in signals}\n",
    "\n",
    "df = pd.concat(\n",
    "    [csv_sim_path]\n",
    "    +\n",
    "    [ pd.DataFrame.from_dict(\n",
    "    {\n",
    "        \"name\": f\"{case}_{limit}_\" + signal + f\"_mu_{m}_gu{gu}_gzp_{gzp}\".replace('.', '_'), \n",
    "        \"path\": os.path.join(sim_path, signal,f'mu_{m}_gu{gu}_gzp_{gzp}'.replace('.', '_')),  \n",
    "        'xs(pb)': 1.0\n",
    "    }, \n",
    "    orient = \"index\").T for signal, m , gu, gzp in product(signals,M_U,G_U, G_ZP) ]\n",
    ")\n",
    "\n",
    "# save the new csv\n",
    "csv_sim_path = os.path.join(os.getcwd(), \"SimulationsPaths.csv\")\n",
    "df.to_csv(csv_sim_path, index = False)"
   ]
  },
  {
   "cell_type": "code",
   "execution_count": 5,
   "metadata": {},
   "outputs": [],
   "source": [
    "def get_kinematics(run):\n",
    "    run_name = os.path.basename(os.path.dirname(run))\n",
    "    childs=readLHEF(run)\n",
    "    if os.path.isfile(run):\n",
    "        print('Reading', run_name)\n",
    "    else:\n",
    "        pass\n",
    "    \n",
    "    results = list()\n",
    "    for child in childs:\n",
    "        event = get_event_by_child(child)\n",
    "        taus = event.getParticlesByIDs([-15,15])\n",
    "        if len(taus) == 2:\n",
    "            taus[0].SetName(\"#tau_{1}\")\n",
    "            taus[1].SetName(\"#tau_{2}\")\n",
    "            sum_taus = taus[0].TLV + taus[1].TLV\n",
    "        else :\n",
    "            continue\n",
    "        row = get_kinematics_row(taus)\n",
    "        row[\"m_ll(GeV)\"] = sum_taus.M()\n",
    "        row[\"sT(GeV)\"] = row[\"pT_{#tau_{1}}(GeV)\"] + row[\"pT_{#tau_{2}}(GeV)\"]\n",
    "        \n",
    "        results.append(row)\n",
    "    print(run_name, 'done!')\n",
    "    return results\n"
   ]
  },
  {
   "cell_type": "code",
   "execution_count": 6,
   "metadata": {},
   "outputs": [],
   "source": [
    "# Load the simulation\n",
    "\n",
    "def load_simulation(x):\n",
    "    signal, m, gu, gzp = x\n",
    "    signal_key = f\"{case}_{limit}_\" + signal + f\"_mu_{m}_gu{gu}_gzp_{gzp}\".replace('.', '_')\n",
    "    \n",
    "    lhe_loader = LHE_Loader(signal_key, csv_sim_path)\n",
    "    results = list()\n",
    "    \n",
    "    n_cores = 3\n",
    "    with mp.Pool(n_cores) as pool:\n",
    "        for result in list(pool.map(get_kinematics, lhe_loader.Forest)):\n",
    "            results += result\n",
    "    return signal_key, pd.DataFrame.from_records(results)"
   ]
  },
  {
   "cell_type": "code",
   "execution_count": 7,
   "metadata": {
    "tags": []
   },
   "outputs": [
    {
     "name": "stdout",
     "output_type": "stream",
     "text": [
      "woRHC_zp_upper_limit_zp_tau_tau_mu_1000_gu1_75_gzp_1_5 imported with 1 trees!\n",
      "/disco4/personal_folders/Cristian/SIMULATIONS/lq_zp/woRHC/zp_upper_limit/zp_tau_tau/mu_1000_gu1_75_gzp_1_5\n",
      "Reading run_01\n",
      "run_01 done!\n",
      "woRHC_zp_upper_limit_non-res_tau_tau_mu_1000_gu1_75_gzp_1_5 imported with 1 trees!\n",
      "/disco4/personal_folders/Cristian/SIMULATIONS/lq_zp/woRHC/zp_upper_limit/non-res_tau_tau/mu_1000_gu1_75_gzp_1_5\n",
      "Reading run_01\n",
      "run_01 done!\n"
     ]
    }
   ],
   "source": [
    "a = dict(map(load_simulation, product(signals,M_U,G_U, G_ZP)))"
   ]
  },
  {
   "cell_type": "code",
   "execution_count": 16,
   "metadata": {},
   "outputs": [
    {
     "data": {
      "text/plain": [
       "dict_keys(['woRHC_zp_upper_limit_zp_tau_tau_mu_1000_gu1_75_gzp_1_5', 'woRHC_zp_upper_limit_non-res_tau_tau_mu_1000_gu1_75_gzp_1_5'])"
      ]
     },
     "execution_count": 16,
     "metadata": {},
     "output_type": "execute_result"
    }
   ],
   "source": [
    "a.keys()"
   ]
  },
  {
   "cell_type": "code",
   "execution_count": 17,
   "metadata": {
    "tags": []
   },
   "outputs": [
    {
     "data": {
      "text/html": [
       "<div>\n",
       "<style scoped>\n",
       "    .dataframe tbody tr th:only-of-type {\n",
       "        vertical-align: middle;\n",
       "    }\n",
       "\n",
       "    .dataframe tbody tr th {\n",
       "        vertical-align: top;\n",
       "    }\n",
       "\n",
       "    .dataframe thead th {\n",
       "        text-align: right;\n",
       "    }\n",
       "</style>\n",
       "<table border=\"1\" class=\"dataframe\">\n",
       "  <thead>\n",
       "    <tr style=\"text-align: right;\">\n",
       "      <th></th>\n",
       "      <th>pT_{#tau_{1}}(GeV)</th>\n",
       "      <th>#eta_{#tau_{1}}</th>\n",
       "      <th>#phi_{#tau_{1}}</th>\n",
       "      <th>Energy_{#tau_{1}}(GeV)</th>\n",
       "      <th>Mass_{#tau_{1}}(GeV))</th>\n",
       "      <th>#Delta{R}_{#tau_{1}#tau_{2}}</th>\n",
       "      <th>#Delta{#eta}_{#tau_{1}#tau_{2}}</th>\n",
       "      <th>#Delta{#phi}_{#tau_{1}#tau_{2}}</th>\n",
       "      <th>#Delta{pT}_{#tau_{1}#tau_{2}}(GeV)</th>\n",
       "      <th>#Delta{#vec{pT}}_{#tau_{1}#tau_{2}}(GeV)</th>\n",
       "      <th>#Delta{#vec{p}}_{#tau_{1}#tau_{2}}(GeV)</th>\n",
       "      <th>pT_{#tau_{2}}(GeV)</th>\n",
       "      <th>#eta_{#tau_{2}}</th>\n",
       "      <th>#phi_{#tau_{2}}</th>\n",
       "      <th>Energy_{#tau_{2}}(GeV)</th>\n",
       "      <th>Mass_{#tau_{2}}(GeV))</th>\n",
       "      <th>m_ll(GeV)</th>\n",
       "      <th>sT(GeV)</th>\n",
       "    </tr>\n",
       "  </thead>\n",
       "  <tbody>\n",
       "    <tr>\n",
       "      <th>0</th>\n",
       "      <td>737.435706</td>\n",
       "      <td>0.052358</td>\n",
       "      <td>-1.592176</td>\n",
       "      <td>738.446738</td>\n",
       "      <td>-0.002607</td>\n",
       "      <td>3.568591</td>\n",
       "      <td>-1.692701</td>\n",
       "      <td>3.141593</td>\n",
       "      <td>0.0</td>\n",
       "      <td>1474.871412</td>\n",
       "      <td>2491.727447</td>\n",
       "      <td>737.435706</td>\n",
       "      <td>1.745059</td>\n",
       "      <td>1.549417</td>\n",
       "      <td>2175.757946</td>\n",
       "      <td>0.006954</td>\n",
       "      <td>2035.397297</td>\n",
       "      <td>1474.871412</td>\n",
       "    </tr>\n",
       "    <tr>\n",
       "      <th>1</th>\n",
       "      <td>963.546335</td>\n",
       "      <td>-0.471734</td>\n",
       "      <td>-1.892153</td>\n",
       "      <td>1072.759554</td>\n",
       "      <td>0.009102</td>\n",
       "      <td>3.187455</td>\n",
       "      <td>-0.538760</td>\n",
       "      <td>3.141593</td>\n",
       "      <td>0.0</td>\n",
       "      <td>1927.092671</td>\n",
       "      <td>2000.303342</td>\n",
       "      <td>963.546335</td>\n",
       "      <td>0.067027</td>\n",
       "      <td>1.249439</td>\n",
       "      <td>965.711547</td>\n",
       "      <td>-0.001828</td>\n",
       "      <td>1997.436903</td>\n",
       "      <td>1927.092671</td>\n",
       "    </tr>\n",
       "    <tr>\n",
       "      <th>2</th>\n",
       "      <td>134.514509</td>\n",
       "      <td>1.646428</td>\n",
       "      <td>1.013641</td>\n",
       "      <td>361.921514</td>\n",
       "      <td>-0.001573</td>\n",
       "      <td>4.102262</td>\n",
       "      <td>2.637982</td>\n",
       "      <td>3.141593</td>\n",
       "      <td>0.0</td>\n",
       "      <td>269.029019</td>\n",
       "      <td>561.039217</td>\n",
       "      <td>134.514509</td>\n",
       "      <td>-0.991553</td>\n",
       "      <td>-2.127952</td>\n",
       "      <td>206.238855</td>\n",
       "      <td>-0.001058</td>\n",
       "      <td>539.006413</td>\n",
       "      <td>269.029019</td>\n",
       "    </tr>\n",
       "    <tr>\n",
       "      <th>3</th>\n",
       "      <td>218.208173</td>\n",
       "      <td>0.169974</td>\n",
       "      <td>1.438902</td>\n",
       "      <td>221.367900</td>\n",
       "      <td>0.001240</td>\n",
       "      <td>3.204230</td>\n",
       "      <td>0.630467</td>\n",
       "      <td>3.141593</td>\n",
       "      <td>0.0</td>\n",
       "      <td>436.416346</td>\n",
       "      <td>458.733609</td>\n",
       "      <td>218.208173</td>\n",
       "      <td>-0.460493</td>\n",
       "      <td>-1.702690</td>\n",
       "      <td>241.755885</td>\n",
       "      <td>0.000101</td>\n",
       "      <td>458.280322</td>\n",
       "      <td>436.416346</td>\n",
       "    </tr>\n",
       "    <tr>\n",
       "      <th>4</th>\n",
       "      <td>361.081637</td>\n",
       "      <td>0.492887</td>\n",
       "      <td>-0.546463</td>\n",
       "      <td>405.836876</td>\n",
       "      <td>-0.002306</td>\n",
       "      <td>3.144525</td>\n",
       "      <td>0.135772</td>\n",
       "      <td>3.141593</td>\n",
       "      <td>0.0</td>\n",
       "      <td>722.163275</td>\n",
       "      <td>724.146768</td>\n",
       "      <td>361.081637</td>\n",
       "      <td>0.357114</td>\n",
       "      <td>2.595129</td>\n",
       "      <td>384.351838</td>\n",
       "      <td>0.001368</td>\n",
       "      <td>723.827973</td>\n",
       "      <td>722.163275</td>\n",
       "    </tr>\n",
       "  </tbody>\n",
       "</table>\n",
       "</div>"
      ],
      "text/plain": [
       "   pT_{#tau_{1}}(GeV)  #eta_{#tau_{1}}  #phi_{#tau_{1}}  \\\n",
       "0          737.435706         0.052358        -1.592176   \n",
       "1          963.546335        -0.471734        -1.892153   \n",
       "2          134.514509         1.646428         1.013641   \n",
       "3          218.208173         0.169974         1.438902   \n",
       "4          361.081637         0.492887        -0.546463   \n",
       "\n",
       "   Energy_{#tau_{1}}(GeV)  Mass_{#tau_{1}}(GeV))  \\\n",
       "0              738.446738              -0.002607   \n",
       "1             1072.759554               0.009102   \n",
       "2              361.921514              -0.001573   \n",
       "3              221.367900               0.001240   \n",
       "4              405.836876              -0.002306   \n",
       "\n",
       "   #Delta{R}_{#tau_{1}#tau_{2}}  #Delta{#eta}_{#tau_{1}#tau_{2}}  \\\n",
       "0                      3.568591                        -1.692701   \n",
       "1                      3.187455                        -0.538760   \n",
       "2                      4.102262                         2.637982   \n",
       "3                      3.204230                         0.630467   \n",
       "4                      3.144525                         0.135772   \n",
       "\n",
       "   #Delta{#phi}_{#tau_{1}#tau_{2}}  #Delta{pT}_{#tau_{1}#tau_{2}}(GeV)  \\\n",
       "0                         3.141593                                 0.0   \n",
       "1                         3.141593                                 0.0   \n",
       "2                         3.141593                                 0.0   \n",
       "3                         3.141593                                 0.0   \n",
       "4                         3.141593                                 0.0   \n",
       "\n",
       "   #Delta{#vec{pT}}_{#tau_{1}#tau_{2}}(GeV)  \\\n",
       "0                               1474.871412   \n",
       "1                               1927.092671   \n",
       "2                                269.029019   \n",
       "3                                436.416346   \n",
       "4                                722.163275   \n",
       "\n",
       "   #Delta{#vec{p}}_{#tau_{1}#tau_{2}}(GeV)  pT_{#tau_{2}}(GeV)  \\\n",
       "0                              2491.727447          737.435706   \n",
       "1                              2000.303342          963.546335   \n",
       "2                               561.039217          134.514509   \n",
       "3                               458.733609          218.208173   \n",
       "4                               724.146768          361.081637   \n",
       "\n",
       "   #eta_{#tau_{2}}  #phi_{#tau_{2}}  Energy_{#tau_{2}}(GeV)  \\\n",
       "0         1.745059         1.549417             2175.757946   \n",
       "1         0.067027         1.249439              965.711547   \n",
       "2        -0.991553        -2.127952              206.238855   \n",
       "3        -0.460493        -1.702690              241.755885   \n",
       "4         0.357114         2.595129              384.351838   \n",
       "\n",
       "   Mass_{#tau_{2}}(GeV))    m_ll(GeV)      sT(GeV)  \n",
       "0               0.006954  2035.397297  1474.871412  \n",
       "1              -0.001828  1997.436903  1927.092671  \n",
       "2              -0.001058   539.006413   269.029019  \n",
       "3               0.000101   458.280322   436.416346  \n",
       "4               0.001368   723.827973   722.163275  "
      ]
     },
     "execution_count": 17,
     "metadata": {},
     "output_type": "execute_result"
    }
   ],
   "source": [
    "a['woRHC_zp_upper_limit_zp_tau_tau_mu_1000_gu1_75_gzp_1_5'].head()"
   ]
  },
  {
   "cell_type": "code",
   "execution_count": 18,
   "metadata": {
    "tags": []
   },
   "outputs": [],
   "source": [
    "default_hist_bins_dict={\n",
    "    \"#Delta{R}\":[96,0,7],\n",
    "    \"#Delta{#eta}\":[80,-5,5],\n",
    "    \"#Delta{#phi}\":[52,-3.25,3.25],\n",
    "    \"#Delta{pT}\":[120, 0.0, 1500.0],\n",
    "    \"#Delta{#vec{pT}}\":[240, 0.0, 4800.0],\n",
    "    \"#Delta{#vec{p}}\":[240, 0.0, 4800.0],\n",
    "    \"MET(GeV)\":[80, 0.0, 1000.0],\n",
    "    \"pT_\": [160, 0.0, 2000.0],\n",
    "    \"sT(GeV)\": [200, 0.0, 4000.0],\n",
    "    \"mT(GeV)\": [200, 0.0, 4000.0],\n",
    "    \"#eta_\":[80, -5, 5],\n",
    "    \"#phi_\":[128, -3.2, 3.2],\n",
    "    \"Energy_\":[80, 0.0, 1000.0],\n",
    "    \"m_ll(GeV)\" : [160, 0.0, 2000.0]\n",
    "}"
   ]
  },
  {
   "cell_type": "code",
   "execution_count": 28,
   "metadata": {},
   "outputs": [
    {
     "name": "stdout",
     "output_type": "stream",
     "text": [
      "zp #tau #tau\n",
      "non-res #tau #tau\n"
     ]
    }
   ],
   "source": [
    "root_histos = {'wRHC': {'zp_upper_limit': {}, 'zp_lower_limit': {}},\n",
    "               'woRHC': {'zp_upper_limit': {}, 'zp_lower_limit': {}}}\n",
    "\n",
    "for key in a.keys():\n",
    "    Betard = key.split('_')[0]\n",
    "    ZP_Limit = 'zp_' + key.split('_')[2] + '_limit'\n",
    "    m_gu_gz = \"mu\" + key.split('mu')[1]\n",
    "    root_histos[Betard][ZP_Limit][m_gu_gz] = {}\n",
    "\n",
    "for key in a.keys():\n",
    "    Betard = key.split('_')[0]\n",
    "    ZP_Limit = 'zp_' + key.split('_')[2] + '_limit'\n",
    "    m_gu_gz = \"mu\" + key.split('mu')[1]\n",
    "    signal = ''.join(key.split('_')[4: len(key.split('_')) - 7]).replace('tau', ' #tau').replace('mu', ' mu')\n",
    "    \n",
    "    root_histos[Betard][ZP_Limit][m_gu_gz][signal] = make_histograms(a[key],hist_bins_dict = default_hist_bins_dict)"
   ]
  },
  {
   "cell_type": "code",
   "execution_count": 29,
   "metadata": {
    "tags": []
   },
   "outputs": [
    {
     "data": {
      "text/plain": [
       "{'wRHC': {'zp_upper_limit': {}, 'zp_lower_limit': {}},\n",
       " 'woRHC': {'zp_upper_limit': {'mu_1000_gu1_75_gzp_1_5': {'zp #tau #tau': {'pT_{#tau_{1}}(GeV)': <cppyy.gbl.TH1F object at 0x564b4aeeb8a0>,\n",
       "     '#eta_{#tau_{1}}': <cppyy.gbl.TH1F object at 0x564b4aeeafa0>,\n",
       "     '#phi_{#tau_{1}}': <cppyy.gbl.TH1F object at 0x564b4aeeab40>,\n",
       "     'Energy_{#tau_{1}}(GeV)': <cppyy.gbl.TH1F object at 0x564b4aeea230>,\n",
       "     '#Delta{R}_{#tau_{1}#tau_{2}}': <cppyy.gbl.TH1F object at 0x564b4aee99b0>,\n",
       "     '#Delta{#eta}_{#tau_{1}#tau_{2}}': <cppyy.gbl.TH1F object at 0x564b4aee9400>,\n",
       "     '#Delta{#phi}_{#tau_{1}#tau_{2}}': <cppyy.gbl.TH1F object at 0x564b4aee8af0>,\n",
       "     '#Delta{pT}_{#tau_{1}#tau_{2}}(GeV)': <cppyy.gbl.TH1F object at 0x564b4aeef690>,\n",
       "     '#Delta{#vec{pT}}_{#tau_{1}#tau_{2}}(GeV)': <cppyy.gbl.TH1F object at 0x564b4aeebc90>,\n",
       "     '#Delta{#vec{p}}_{#tau_{1}#tau_{2}}(GeV)': <cppyy.gbl.TH1F object at 0x564b4aef04c0>,\n",
       "     'pT_{#tau_{2}}(GeV)': <cppyy.gbl.TH1F object at 0x564b4aef8cb0>,\n",
       "     '#eta_{#tau_{2}}': <cppyy.gbl.TH1F object at 0x564b4aeecb60>,\n",
       "     '#phi_{#tau_{2}}': <cppyy.gbl.TH1F object at 0x564b4aeecfc0>,\n",
       "     'Energy_{#tau_{2}}(GeV)': <cppyy.gbl.TH1F object at 0x564b4aeedfd0>,\n",
       "     'm_ll(GeV)': <cppyy.gbl.TH1F object at 0x564b4aeee500>,\n",
       "     'sT(GeV)': <cppyy.gbl.TH1F object at 0x564b4aef10e0>},\n",
       "    'non-res #tau #tau': {'pT_{#tau_{1}}(GeV)': <cppyy.gbl.TH1F object at 0x564b4aef1630>,\n",
       "     '#eta_{#tau_{1}}': <cppyy.gbl.TH1F object at 0x564b4aef3730>,\n",
       "     '#phi_{#tau_{1}}': <cppyy.gbl.TH1F object at 0x564b4aef3d60>,\n",
       "     'Energy_{#tau_{1}}(GeV)': <cppyy.gbl.TH1F object at 0x564b4aef4600>,\n",
       "     '#Delta{R}_{#tau_{1}#tau_{2}}': <cppyy.gbl.TH1F object at 0x564b4aef4c80>,\n",
       "     '#Delta{#eta}_{#tau_{1}#tau_{2}}': <cppyy.gbl.TH1F object at 0x564b4aef5160>,\n",
       "     '#Delta{#phi}_{#tau_{1}#tau_{2}}': <cppyy.gbl.TH1F object at 0x564b4aef5a60>,\n",
       "     '#Delta{pT}_{#tau_{1}#tau_{2}}(GeV)': <cppyy.gbl.TH1F object at 0x564b4aef99f0>,\n",
       "     '#Delta{#vec{pT}}_{#tau_{1}#tau_{2}}(GeV)': <cppyy.gbl.TH1F object at 0x564b4aef9de0>,\n",
       "     '#Delta{#vec{p}}_{#tau_{1}#tau_{2}}(GeV)': <cppyy.gbl.TH1F object at 0x564b4aefa970>,\n",
       "     'pT_{#tau_{2}}(GeV)': <cppyy.gbl.TH1F object at 0x564b4aefb8d0>,\n",
       "     '#eta_{#tau_{2}}': <cppyy.gbl.TH1F object at 0x564b4aefc1e0>,\n",
       "     '#phi_{#tau_{2}}': <cppyy.gbl.TH1F object at 0x564b4aefc5d0>,\n",
       "     'Energy_{#tau_{2}}(GeV)': <cppyy.gbl.TH1F object at 0x564b4aefcde0>,\n",
       "     'm_ll(GeV)': <cppyy.gbl.TH1F object at 0x564b4aefd470>,\n",
       "     'sT(GeV)': <cppyy.gbl.TH1F object at 0x564b4aefe010>}}},\n",
       "  'zp_lower_limit': {}}}"
      ]
     },
     "execution_count": 29,
     "metadata": {},
     "output_type": "execute_result"
    }
   ],
   "source": [
    "root_histos"
   ]
  },
  {
   "cell_type": "code",
   "execution_count": 30,
   "metadata": {},
   "outputs": [],
   "source": [
    "# !rm -rf Most_Important_Kinematic_Histograms/"
   ]
  },
  {
   "cell_type": "code",
   "execution_count": 31,
   "metadata": {},
   "outputs": [
    {
     "data": {
      "image/png": "[encoded data removed]",
      "text/plain": [
       "<IPython.core.display.Image object>"
      ]
     },
     "metadata": {},
     "output_type": "display_data"
    }
   ],
   "source": [
    "Important_features = ['m_ll(GeV)', 'sT(GeV)','#Delta{R}_{#tau_{1}#tau_{2}}', '#Delta{#phi}_{#tau_{1}#tau_{2}}', '#phi_{#tau_{1}}', '#eta_{#tau_{1}}', '#phi_{#tau_{2}}', \n",
    "                      '#Delta{pT}_{#tau_{1}#tau_{2}}(GeV)', '#Delta{#vec{pT}}_{#tau_{1}#tau_{2}}(GeV)', 'pT_{#tau_{1}}(GeV)', 'pT_{#tau_{2}}(GeV)']\n",
    "\n",
    "folder = 'Most_Important_Kinematic_Histograms'\n",
    "os.makedirs(folder, exist_ok=True)\n",
    "\n",
    "for Betard in root_histos.keys():\n",
    "    for ZP_Limit in root_histos[Betard].keys():\n",
    "        for m_gu_gz in root_histos[Betard][ZP_Limit].keys():\n",
    "            os.makedirs(os.path.join(folder, Betard, ZP_Limit, m_gu_gz), exist_ok=True)\n",
    "            \n",
    "            for feature in Important_features:\n",
    "                histos, canvas, legend = overlap_histos(feature, root_histos[Betard][ZP_Limit][m_gu_gz], log_scale =True)\n",
    "                with Quiet(): canvas.SaveAs(os.path.join(folder, Betard, ZP_Limit, m_gu_gz, f\"{feature}.pdf\".replace('{', '').replace('}', '')))"
   ]
  },
  {
   "cell_type": "code",
   "execution_count": null,
   "metadata": {},
   "outputs": [],
   "source": []
  }
 ],
 "metadata": {
  "kernelspec": {
   "display_name": "Python 3 (ipykernel)",
   "language": "python",
   "name": "python3"
  },
  "language_info": {
   "codemirror_mode": {
    "name": "ipython",
    "version": 3
   },
   "file_extension": ".py",
   "mimetype": "text/x-python",
   "name": "python",
   "nbconvert_exporter": "python",
   "pygments_lexer": "ipython3",
   "version": "3.9.4"
  }
 },
 "nbformat": 4,
 "nbformat_minor": 4
}
